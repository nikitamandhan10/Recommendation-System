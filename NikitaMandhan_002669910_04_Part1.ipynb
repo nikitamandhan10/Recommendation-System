{
 "cells": [
  {
   "cell_type": "markdown",
   "id": "0c1d646e-e82d-4cde-9120-040950aba3fe",
   "metadata": {
    "tags": []
   },
   "source": [
    "# Project 4 - Part 1: Movie Recommendation System Using Model Based Collaborative Filtering\n",
    "\n",
    "- Nikita Mandhan"
   ]
  },
  {
   "cell_type": "markdown",
   "id": "368d46af-c6d0-45a5-a22e-ac9cd25bbe5f",
   "metadata": {},
   "source": [
    "#### Importing Necessary Libraries"
   ]
  },
  {
   "cell_type": "code",
   "execution_count": 1,
   "id": "8b8cc63b-c769-42c1-9b28-53b4959161c6",
   "metadata": {},
   "outputs": [],
   "source": [
    "# Importing libraries for data handling, numerical operations, and data visualization\n",
    "import pandas as pd\n",
    "import numpy as np\n",
    "import matplotlib.pyplot as plt\n",
    "import seaborn as sns"
   ]
  },
  {
   "cell_type": "markdown",
   "id": "a760d99e-ebc1-4e34-abed-3294ee8b0f57",
   "metadata": {
    "tags": []
   },
   "source": [
    "#### Loading Data"
   ]
  },
  {
   "cell_type": "code",
   "execution_count": 2,
   "id": "7caf593a-7950-42a0-92a7-cbe664b04532",
   "metadata": {},
   "outputs": [],
   "source": [
    "df_movies = pd.read_csv('movies.csv')"
   ]
  },
  {
   "cell_type": "code",
   "execution_count": 3,
   "id": "64eeacd4-1ddd-4f36-b665-3b53140f5d2e",
   "metadata": {},
   "outputs": [],
   "source": [
    "df_ratings = pd.read_csv('ratings.csv')"
   ]
  },
  {
   "cell_type": "code",
   "execution_count": 4,
   "id": "91d05929-721d-47b6-8299-bf279b053b83",
   "metadata": {},
   "outputs": [],
   "source": [
    "df_links = pd.read_csv('links.csv')"
   ]
  },
  {
   "cell_type": "code",
   "execution_count": 5,
   "id": "1f489585-9628-4e62-a464-730a8c7d48ea",
   "metadata": {},
   "outputs": [
    {
     "data": {
      "text/html": [
       "<div>\n",
       "<style scoped>\n",
       "    .dataframe tbody tr th:only-of-type {\n",
       "        vertical-align: middle;\n",
       "    }\n",
       "\n",
       "    .dataframe tbody tr th {\n",
       "        vertical-align: top;\n",
       "    }\n",
       "\n",
       "    .dataframe thead th {\n",
       "        text-align: right;\n",
       "    }\n",
       "</style>\n",
       "<table border=\"1\" class=\"dataframe\">\n",
       "  <thead>\n",
       "    <tr style=\"text-align: right;\">\n",
       "      <th></th>\n",
       "      <th>movieId</th>\n",
       "      <th>title</th>\n",
       "      <th>genres</th>\n",
       "    </tr>\n",
       "  </thead>\n",
       "  <tbody>\n",
       "    <tr>\n",
       "      <th>0</th>\n",
       "      <td>1</td>\n",
       "      <td>Toy Story (1995)</td>\n",
       "      <td>Adventure|Animation|Children|Comedy|Fantasy</td>\n",
       "    </tr>\n",
       "    <tr>\n",
       "      <th>1</th>\n",
       "      <td>2</td>\n",
       "      <td>Jumanji (1995)</td>\n",
       "      <td>Adventure|Children|Fantasy</td>\n",
       "    </tr>\n",
       "    <tr>\n",
       "      <th>2</th>\n",
       "      <td>3</td>\n",
       "      <td>Grumpier Old Men (1995)</td>\n",
       "      <td>Comedy|Romance</td>\n",
       "    </tr>\n",
       "    <tr>\n",
       "      <th>3</th>\n",
       "      <td>4</td>\n",
       "      <td>Waiting to Exhale (1995)</td>\n",
       "      <td>Comedy|Drama|Romance</td>\n",
       "    </tr>\n",
       "    <tr>\n",
       "      <th>4</th>\n",
       "      <td>5</td>\n",
       "      <td>Father of the Bride Part II (1995)</td>\n",
       "      <td>Comedy</td>\n",
       "    </tr>\n",
       "    <tr>\n",
       "      <th>...</th>\n",
       "      <td>...</td>\n",
       "      <td>...</td>\n",
       "      <td>...</td>\n",
       "    </tr>\n",
       "    <tr>\n",
       "      <th>62418</th>\n",
       "      <td>209157</td>\n",
       "      <td>We (2018)</td>\n",
       "      <td>Drama</td>\n",
       "    </tr>\n",
       "    <tr>\n",
       "      <th>62419</th>\n",
       "      <td>209159</td>\n",
       "      <td>Window of the Soul (2001)</td>\n",
       "      <td>Documentary</td>\n",
       "    </tr>\n",
       "    <tr>\n",
       "      <th>62420</th>\n",
       "      <td>209163</td>\n",
       "      <td>Bad Poems (2018)</td>\n",
       "      <td>Comedy|Drama</td>\n",
       "    </tr>\n",
       "    <tr>\n",
       "      <th>62421</th>\n",
       "      <td>209169</td>\n",
       "      <td>A Girl Thing (2001)</td>\n",
       "      <td>(no genres listed)</td>\n",
       "    </tr>\n",
       "    <tr>\n",
       "      <th>62422</th>\n",
       "      <td>209171</td>\n",
       "      <td>Women of Devil's Island (1962)</td>\n",
       "      <td>Action|Adventure|Drama</td>\n",
       "    </tr>\n",
       "  </tbody>\n",
       "</table>\n",
       "<p>62423 rows × 3 columns</p>\n",
       "</div>"
      ],
      "text/plain": [
       "       movieId                               title  \\\n",
       "0            1                    Toy Story (1995)   \n",
       "1            2                      Jumanji (1995)   \n",
       "2            3             Grumpier Old Men (1995)   \n",
       "3            4            Waiting to Exhale (1995)   \n",
       "4            5  Father of the Bride Part II (1995)   \n",
       "...        ...                                 ...   \n",
       "62418   209157                           We (2018)   \n",
       "62419   209159           Window of the Soul (2001)   \n",
       "62420   209163                    Bad Poems (2018)   \n",
       "62421   209169                 A Girl Thing (2001)   \n",
       "62422   209171      Women of Devil's Island (1962)   \n",
       "\n",
       "                                            genres  \n",
       "0      Adventure|Animation|Children|Comedy|Fantasy  \n",
       "1                       Adventure|Children|Fantasy  \n",
       "2                                   Comedy|Romance  \n",
       "3                             Comedy|Drama|Romance  \n",
       "4                                           Comedy  \n",
       "...                                            ...  \n",
       "62418                                        Drama  \n",
       "62419                                  Documentary  \n",
       "62420                                 Comedy|Drama  \n",
       "62421                           (no genres listed)  \n",
       "62422                       Action|Adventure|Drama  \n",
       "\n",
       "[62423 rows x 3 columns]"
      ]
     },
     "execution_count": 5,
     "metadata": {},
     "output_type": "execute_result"
    }
   ],
   "source": [
    "df_movies"
   ]
  },
  {
   "cell_type": "code",
   "execution_count": 6,
   "id": "95e1ed7f-96f0-495b-ba30-babea0d21e2b",
   "metadata": {},
   "outputs": [
    {
     "data": {
      "text/html": [
       "<div>\n",
       "<style scoped>\n",
       "    .dataframe tbody tr th:only-of-type {\n",
       "        vertical-align: middle;\n",
       "    }\n",
       "\n",
       "    .dataframe tbody tr th {\n",
       "        vertical-align: top;\n",
       "    }\n",
       "\n",
       "    .dataframe thead th {\n",
       "        text-align: right;\n",
       "    }\n",
       "</style>\n",
       "<table border=\"1\" class=\"dataframe\">\n",
       "  <thead>\n",
       "    <tr style=\"text-align: right;\">\n",
       "      <th></th>\n",
       "      <th>userId</th>\n",
       "      <th>movieId</th>\n",
       "      <th>rating</th>\n",
       "      <th>timestamp</th>\n",
       "    </tr>\n",
       "  </thead>\n",
       "  <tbody>\n",
       "    <tr>\n",
       "      <th>0</th>\n",
       "      <td>1</td>\n",
       "      <td>296</td>\n",
       "      <td>5.0</td>\n",
       "      <td>1147880044</td>\n",
       "    </tr>\n",
       "    <tr>\n",
       "      <th>1</th>\n",
       "      <td>1</td>\n",
       "      <td>306</td>\n",
       "      <td>3.5</td>\n",
       "      <td>1147868817</td>\n",
       "    </tr>\n",
       "    <tr>\n",
       "      <th>2</th>\n",
       "      <td>1</td>\n",
       "      <td>307</td>\n",
       "      <td>5.0</td>\n",
       "      <td>1147868828</td>\n",
       "    </tr>\n",
       "    <tr>\n",
       "      <th>3</th>\n",
       "      <td>1</td>\n",
       "      <td>665</td>\n",
       "      <td>5.0</td>\n",
       "      <td>1147878820</td>\n",
       "    </tr>\n",
       "    <tr>\n",
       "      <th>4</th>\n",
       "      <td>1</td>\n",
       "      <td>899</td>\n",
       "      <td>3.5</td>\n",
       "      <td>1147868510</td>\n",
       "    </tr>\n",
       "    <tr>\n",
       "      <th>...</th>\n",
       "      <td>...</td>\n",
       "      <td>...</td>\n",
       "      <td>...</td>\n",
       "      <td>...</td>\n",
       "    </tr>\n",
       "    <tr>\n",
       "      <th>25000090</th>\n",
       "      <td>162541</td>\n",
       "      <td>50872</td>\n",
       "      <td>4.5</td>\n",
       "      <td>1240953372</td>\n",
       "    </tr>\n",
       "    <tr>\n",
       "      <th>25000091</th>\n",
       "      <td>162541</td>\n",
       "      <td>55768</td>\n",
       "      <td>2.5</td>\n",
       "      <td>1240951998</td>\n",
       "    </tr>\n",
       "    <tr>\n",
       "      <th>25000092</th>\n",
       "      <td>162541</td>\n",
       "      <td>56176</td>\n",
       "      <td>2.0</td>\n",
       "      <td>1240950697</td>\n",
       "    </tr>\n",
       "    <tr>\n",
       "      <th>25000093</th>\n",
       "      <td>162541</td>\n",
       "      <td>58559</td>\n",
       "      <td>4.0</td>\n",
       "      <td>1240953434</td>\n",
       "    </tr>\n",
       "    <tr>\n",
       "      <th>25000094</th>\n",
       "      <td>162541</td>\n",
       "      <td>63876</td>\n",
       "      <td>5.0</td>\n",
       "      <td>1240952515</td>\n",
       "    </tr>\n",
       "  </tbody>\n",
       "</table>\n",
       "<p>25000095 rows × 4 columns</p>\n",
       "</div>"
      ],
      "text/plain": [
       "          userId  movieId  rating   timestamp\n",
       "0              1      296     5.0  1147880044\n",
       "1              1      306     3.5  1147868817\n",
       "2              1      307     5.0  1147868828\n",
       "3              1      665     5.0  1147878820\n",
       "4              1      899     3.5  1147868510\n",
       "...          ...      ...     ...         ...\n",
       "25000090  162541    50872     4.5  1240953372\n",
       "25000091  162541    55768     2.5  1240951998\n",
       "25000092  162541    56176     2.0  1240950697\n",
       "25000093  162541    58559     4.0  1240953434\n",
       "25000094  162541    63876     5.0  1240952515\n",
       "\n",
       "[25000095 rows x 4 columns]"
      ]
     },
     "execution_count": 6,
     "metadata": {},
     "output_type": "execute_result"
    }
   ],
   "source": [
    "df_ratings"
   ]
  },
  {
   "cell_type": "code",
   "execution_count": 7,
   "id": "05e25083-9205-4e2c-82ff-4757960a3656",
   "metadata": {},
   "outputs": [
    {
     "data": {
      "text/html": [
       "<div>\n",
       "<style scoped>\n",
       "    .dataframe tbody tr th:only-of-type {\n",
       "        vertical-align: middle;\n",
       "    }\n",
       "\n",
       "    .dataframe tbody tr th {\n",
       "        vertical-align: top;\n",
       "    }\n",
       "\n",
       "    .dataframe thead th {\n",
       "        text-align: right;\n",
       "    }\n",
       "</style>\n",
       "<table border=\"1\" class=\"dataframe\">\n",
       "  <thead>\n",
       "    <tr style=\"text-align: right;\">\n",
       "      <th></th>\n",
       "      <th>movieId</th>\n",
       "      <th>imdbId</th>\n",
       "      <th>tmdbId</th>\n",
       "    </tr>\n",
       "  </thead>\n",
       "  <tbody>\n",
       "    <tr>\n",
       "      <th>0</th>\n",
       "      <td>1</td>\n",
       "      <td>114709</td>\n",
       "      <td>862.0</td>\n",
       "    </tr>\n",
       "    <tr>\n",
       "      <th>1</th>\n",
       "      <td>2</td>\n",
       "      <td>113497</td>\n",
       "      <td>8844.0</td>\n",
       "    </tr>\n",
       "    <tr>\n",
       "      <th>2</th>\n",
       "      <td>3</td>\n",
       "      <td>113228</td>\n",
       "      <td>15602.0</td>\n",
       "    </tr>\n",
       "    <tr>\n",
       "      <th>3</th>\n",
       "      <td>4</td>\n",
       "      <td>114885</td>\n",
       "      <td>31357.0</td>\n",
       "    </tr>\n",
       "    <tr>\n",
       "      <th>4</th>\n",
       "      <td>5</td>\n",
       "      <td>113041</td>\n",
       "      <td>11862.0</td>\n",
       "    </tr>\n",
       "    <tr>\n",
       "      <th>...</th>\n",
       "      <td>...</td>\n",
       "      <td>...</td>\n",
       "      <td>...</td>\n",
       "    </tr>\n",
       "    <tr>\n",
       "      <th>62418</th>\n",
       "      <td>209157</td>\n",
       "      <td>6671244</td>\n",
       "      <td>499546.0</td>\n",
       "    </tr>\n",
       "    <tr>\n",
       "      <th>62419</th>\n",
       "      <td>209159</td>\n",
       "      <td>297986</td>\n",
       "      <td>63407.0</td>\n",
       "    </tr>\n",
       "    <tr>\n",
       "      <th>62420</th>\n",
       "      <td>209163</td>\n",
       "      <td>6755366</td>\n",
       "      <td>553036.0</td>\n",
       "    </tr>\n",
       "    <tr>\n",
       "      <th>62421</th>\n",
       "      <td>209169</td>\n",
       "      <td>249603</td>\n",
       "      <td>162892.0</td>\n",
       "    </tr>\n",
       "    <tr>\n",
       "      <th>62422</th>\n",
       "      <td>209171</td>\n",
       "      <td>55323</td>\n",
       "      <td>79513.0</td>\n",
       "    </tr>\n",
       "  </tbody>\n",
       "</table>\n",
       "<p>62423 rows × 3 columns</p>\n",
       "</div>"
      ],
      "text/plain": [
       "       movieId   imdbId    tmdbId\n",
       "0            1   114709     862.0\n",
       "1            2   113497    8844.0\n",
       "2            3   113228   15602.0\n",
       "3            4   114885   31357.0\n",
       "4            5   113041   11862.0\n",
       "...        ...      ...       ...\n",
       "62418   209157  6671244  499546.0\n",
       "62419   209159   297986   63407.0\n",
       "62420   209163  6755366  553036.0\n",
       "62421   209169   249603  162892.0\n",
       "62422   209171    55323   79513.0\n",
       "\n",
       "[62423 rows x 3 columns]"
      ]
     },
     "execution_count": 7,
     "metadata": {},
     "output_type": "execute_result"
    }
   ],
   "source": [
    "df_links"
   ]
  },
  {
   "cell_type": "markdown",
   "id": "eb285b5e-6f4c-4215-9884-055487f7b177",
   "metadata": {},
   "source": [
    "#### Merge Movies and Ratings Data\n"
   ]
  },
  {
   "cell_type": "code",
   "execution_count": 8,
   "id": "df36ecba-b1fd-4dca-80df-037fa092d98f",
   "metadata": {},
   "outputs": [],
   "source": [
    "# Merging movies and ratings dataframes on 'movieId'\n",
    "df_merged = pd.merge(df_ratings, df_movies, on='movieId')\n",
    "\n",
    "# Selecting relevant columns for the merged dataframe\n",
    "df_merged = df_merged[['userId', 'movieId', 'title', 'genres', 'rating', 'timestamp']]"
   ]
  },
  {
   "cell_type": "code",
   "execution_count": 9,
   "id": "78805ca7-df82-405a-b1cc-fea3961a0fbc",
   "metadata": {},
   "outputs": [
    {
     "data": {
      "text/html": [
       "<div>\n",
       "<style scoped>\n",
       "    .dataframe tbody tr th:only-of-type {\n",
       "        vertical-align: middle;\n",
       "    }\n",
       "\n",
       "    .dataframe tbody tr th {\n",
       "        vertical-align: top;\n",
       "    }\n",
       "\n",
       "    .dataframe thead th {\n",
       "        text-align: right;\n",
       "    }\n",
       "</style>\n",
       "<table border=\"1\" class=\"dataframe\">\n",
       "  <thead>\n",
       "    <tr style=\"text-align: right;\">\n",
       "      <th></th>\n",
       "      <th>userId</th>\n",
       "      <th>movieId</th>\n",
       "      <th>title</th>\n",
       "      <th>genres</th>\n",
       "      <th>rating</th>\n",
       "      <th>timestamp</th>\n",
       "    </tr>\n",
       "  </thead>\n",
       "  <tbody>\n",
       "    <tr>\n",
       "      <th>0</th>\n",
       "      <td>1</td>\n",
       "      <td>296</td>\n",
       "      <td>Pulp Fiction (1994)</td>\n",
       "      <td>Comedy|Crime|Drama|Thriller</td>\n",
       "      <td>5.0</td>\n",
       "      <td>1147880044</td>\n",
       "    </tr>\n",
       "    <tr>\n",
       "      <th>1</th>\n",
       "      <td>3</td>\n",
       "      <td>296</td>\n",
       "      <td>Pulp Fiction (1994)</td>\n",
       "      <td>Comedy|Crime|Drama|Thriller</td>\n",
       "      <td>5.0</td>\n",
       "      <td>1439474476</td>\n",
       "    </tr>\n",
       "    <tr>\n",
       "      <th>2</th>\n",
       "      <td>4</td>\n",
       "      <td>296</td>\n",
       "      <td>Pulp Fiction (1994)</td>\n",
       "      <td>Comedy|Crime|Drama|Thriller</td>\n",
       "      <td>4.0</td>\n",
       "      <td>1573938898</td>\n",
       "    </tr>\n",
       "    <tr>\n",
       "      <th>3</th>\n",
       "      <td>5</td>\n",
       "      <td>296</td>\n",
       "      <td>Pulp Fiction (1994)</td>\n",
       "      <td>Comedy|Crime|Drama|Thriller</td>\n",
       "      <td>4.0</td>\n",
       "      <td>830786155</td>\n",
       "    </tr>\n",
       "    <tr>\n",
       "      <th>4</th>\n",
       "      <td>7</td>\n",
       "      <td>296</td>\n",
       "      <td>Pulp Fiction (1994)</td>\n",
       "      <td>Comedy|Crime|Drama|Thriller</td>\n",
       "      <td>4.0</td>\n",
       "      <td>835444730</td>\n",
       "    </tr>\n",
       "    <tr>\n",
       "      <th>...</th>\n",
       "      <td>...</td>\n",
       "      <td>...</td>\n",
       "      <td>...</td>\n",
       "      <td>...</td>\n",
       "      <td>...</td>\n",
       "      <td>...</td>\n",
       "    </tr>\n",
       "    <tr>\n",
       "      <th>25000090</th>\n",
       "      <td>162358</td>\n",
       "      <td>200192</td>\n",
       "      <td>Den frusna leoparden (1986)</td>\n",
       "      <td>(no genres listed)</td>\n",
       "      <td>2.0</td>\n",
       "      <td>1553453039</td>\n",
       "    </tr>\n",
       "    <tr>\n",
       "      <th>25000091</th>\n",
       "      <td>162358</td>\n",
       "      <td>200194</td>\n",
       "      <td>Tough Luck (2004)</td>\n",
       "      <td>Action|Adventure|Thriller</td>\n",
       "      <td>2.0</td>\n",
       "      <td>1553453843</td>\n",
       "    </tr>\n",
       "    <tr>\n",
       "      <th>25000092</th>\n",
       "      <td>162386</td>\n",
       "      <td>139970</td>\n",
       "      <td>I Don't Speak English (1995)</td>\n",
       "      <td>Comedy</td>\n",
       "      <td>3.5</td>\n",
       "      <td>1549215965</td>\n",
       "    </tr>\n",
       "    <tr>\n",
       "      <th>25000093</th>\n",
       "      <td>162386</td>\n",
       "      <td>200726</td>\n",
       "      <td>The Graduates (1995)</td>\n",
       "      <td>Children|Drama</td>\n",
       "      <td>4.0</td>\n",
       "      <td>1554651417</td>\n",
       "    </tr>\n",
       "    <tr>\n",
       "      <th>25000094</th>\n",
       "      <td>162386</td>\n",
       "      <td>200728</td>\n",
       "      <td>Il pesce innamorato (1999)</td>\n",
       "      <td>(no genres listed)</td>\n",
       "      <td>4.0</td>\n",
       "      <td>1554651472</td>\n",
       "    </tr>\n",
       "  </tbody>\n",
       "</table>\n",
       "<p>25000095 rows × 6 columns</p>\n",
       "</div>"
      ],
      "text/plain": [
       "          userId  movieId                         title  \\\n",
       "0              1      296           Pulp Fiction (1994)   \n",
       "1              3      296           Pulp Fiction (1994)   \n",
       "2              4      296           Pulp Fiction (1994)   \n",
       "3              5      296           Pulp Fiction (1994)   \n",
       "4              7      296           Pulp Fiction (1994)   \n",
       "...          ...      ...                           ...   \n",
       "25000090  162358   200192   Den frusna leoparden (1986)   \n",
       "25000091  162358   200194             Tough Luck (2004)   \n",
       "25000092  162386   139970  I Don't Speak English (1995)   \n",
       "25000093  162386   200726          The Graduates (1995)   \n",
       "25000094  162386   200728    Il pesce innamorato (1999)   \n",
       "\n",
       "                               genres  rating   timestamp  \n",
       "0         Comedy|Crime|Drama|Thriller     5.0  1147880044  \n",
       "1         Comedy|Crime|Drama|Thriller     5.0  1439474476  \n",
       "2         Comedy|Crime|Drama|Thriller     4.0  1573938898  \n",
       "3         Comedy|Crime|Drama|Thriller     4.0   830786155  \n",
       "4         Comedy|Crime|Drama|Thriller     4.0   835444730  \n",
       "...                               ...     ...         ...  \n",
       "25000090           (no genres listed)     2.0  1553453039  \n",
       "25000091    Action|Adventure|Thriller     2.0  1553453843  \n",
       "25000092                       Comedy     3.5  1549215965  \n",
       "25000093               Children|Drama     4.0  1554651417  \n",
       "25000094           (no genres listed)     4.0  1554651472  \n",
       "\n",
       "[25000095 rows x 6 columns]"
      ]
     },
     "execution_count": 9,
     "metadata": {},
     "output_type": "execute_result"
    }
   ],
   "source": [
    "df_merged"
   ]
  },
  {
   "cell_type": "markdown",
   "id": "bcd08f65-8ae7-4fea-adf2-4c94c41275b8",
   "metadata": {},
   "source": [
    "#### Merge with Links Data and Drop Unnecessary Columns"
   ]
  },
  {
   "cell_type": "code",
   "execution_count": 10,
   "id": "cd90923e-9be2-4791-909b-20c2c8c23d10",
   "metadata": {},
   "outputs": [],
   "source": [
    "# Further merging with the links dataframe to add IMDb IDs\n",
    "df_merged = pd.merge(df_merged, df_links, on='movieId')"
   ]
  },
  {
   "cell_type": "code",
   "execution_count": 11,
   "id": "506f1ba0-f49a-4a22-95c5-8cefc4fc73d9",
   "metadata": {},
   "outputs": [],
   "source": [
    "# Dropping unnecessary columns ('timestamp', 'tmdbId')\n",
    "df_merged = df_merged.drop(['timestamp', 'tmdbId'], axis=1)"
   ]
  },
  {
   "cell_type": "code",
   "execution_count": 12,
   "id": "f141afde-799c-4718-8d22-94b897d2804f",
   "metadata": {},
   "outputs": [
    {
     "data": {
      "text/html": [
       "<div>\n",
       "<style scoped>\n",
       "    .dataframe tbody tr th:only-of-type {\n",
       "        vertical-align: middle;\n",
       "    }\n",
       "\n",
       "    .dataframe tbody tr th {\n",
       "        vertical-align: top;\n",
       "    }\n",
       "\n",
       "    .dataframe thead th {\n",
       "        text-align: right;\n",
       "    }\n",
       "</style>\n",
       "<table border=\"1\" class=\"dataframe\">\n",
       "  <thead>\n",
       "    <tr style=\"text-align: right;\">\n",
       "      <th></th>\n",
       "      <th>userId</th>\n",
       "      <th>movieId</th>\n",
       "      <th>title</th>\n",
       "      <th>genres</th>\n",
       "      <th>rating</th>\n",
       "      <th>imdbId</th>\n",
       "    </tr>\n",
       "  </thead>\n",
       "  <tbody>\n",
       "    <tr>\n",
       "      <th>0</th>\n",
       "      <td>1</td>\n",
       "      <td>296</td>\n",
       "      <td>Pulp Fiction (1994)</td>\n",
       "      <td>Comedy|Crime|Drama|Thriller</td>\n",
       "      <td>5.0</td>\n",
       "      <td>110912</td>\n",
       "    </tr>\n",
       "    <tr>\n",
       "      <th>1</th>\n",
       "      <td>3</td>\n",
       "      <td>296</td>\n",
       "      <td>Pulp Fiction (1994)</td>\n",
       "      <td>Comedy|Crime|Drama|Thriller</td>\n",
       "      <td>5.0</td>\n",
       "      <td>110912</td>\n",
       "    </tr>\n",
       "    <tr>\n",
       "      <th>2</th>\n",
       "      <td>4</td>\n",
       "      <td>296</td>\n",
       "      <td>Pulp Fiction (1994)</td>\n",
       "      <td>Comedy|Crime|Drama|Thriller</td>\n",
       "      <td>4.0</td>\n",
       "      <td>110912</td>\n",
       "    </tr>\n",
       "    <tr>\n",
       "      <th>3</th>\n",
       "      <td>5</td>\n",
       "      <td>296</td>\n",
       "      <td>Pulp Fiction (1994)</td>\n",
       "      <td>Comedy|Crime|Drama|Thriller</td>\n",
       "      <td>4.0</td>\n",
       "      <td>110912</td>\n",
       "    </tr>\n",
       "    <tr>\n",
       "      <th>4</th>\n",
       "      <td>7</td>\n",
       "      <td>296</td>\n",
       "      <td>Pulp Fiction (1994)</td>\n",
       "      <td>Comedy|Crime|Drama|Thriller</td>\n",
       "      <td>4.0</td>\n",
       "      <td>110912</td>\n",
       "    </tr>\n",
       "    <tr>\n",
       "      <th>...</th>\n",
       "      <td>...</td>\n",
       "      <td>...</td>\n",
       "      <td>...</td>\n",
       "      <td>...</td>\n",
       "      <td>...</td>\n",
       "      <td>...</td>\n",
       "    </tr>\n",
       "    <tr>\n",
       "      <th>25000090</th>\n",
       "      <td>162358</td>\n",
       "      <td>200192</td>\n",
       "      <td>Den frusna leoparden (1986)</td>\n",
       "      <td>(no genres listed)</td>\n",
       "      <td>2.0</td>\n",
       "      <td>91087</td>\n",
       "    </tr>\n",
       "    <tr>\n",
       "      <th>25000091</th>\n",
       "      <td>162358</td>\n",
       "      <td>200194</td>\n",
       "      <td>Tough Luck (2004)</td>\n",
       "      <td>Action|Adventure|Thriller</td>\n",
       "      <td>2.0</td>\n",
       "      <td>376263</td>\n",
       "    </tr>\n",
       "    <tr>\n",
       "      <th>25000092</th>\n",
       "      <td>162386</td>\n",
       "      <td>139970</td>\n",
       "      <td>I Don't Speak English (1995)</td>\n",
       "      <td>Comedy</td>\n",
       "      <td>3.5</td>\n",
       "      <td>113436</td>\n",
       "    </tr>\n",
       "    <tr>\n",
       "      <th>25000093</th>\n",
       "      <td>162386</td>\n",
       "      <td>200726</td>\n",
       "      <td>The Graduates (1995)</td>\n",
       "      <td>Children|Drama</td>\n",
       "      <td>4.0</td>\n",
       "      <td>113623</td>\n",
       "    </tr>\n",
       "    <tr>\n",
       "      <th>25000094</th>\n",
       "      <td>162386</td>\n",
       "      <td>200728</td>\n",
       "      <td>Il pesce innamorato (1999)</td>\n",
       "      <td>(no genres listed)</td>\n",
       "      <td>4.0</td>\n",
       "      <td>210225</td>\n",
       "    </tr>\n",
       "  </tbody>\n",
       "</table>\n",
       "<p>25000095 rows × 6 columns</p>\n",
       "</div>"
      ],
      "text/plain": [
       "          userId  movieId                         title  \\\n",
       "0              1      296           Pulp Fiction (1994)   \n",
       "1              3      296           Pulp Fiction (1994)   \n",
       "2              4      296           Pulp Fiction (1994)   \n",
       "3              5      296           Pulp Fiction (1994)   \n",
       "4              7      296           Pulp Fiction (1994)   \n",
       "...          ...      ...                           ...   \n",
       "25000090  162358   200192   Den frusna leoparden (1986)   \n",
       "25000091  162358   200194             Tough Luck (2004)   \n",
       "25000092  162386   139970  I Don't Speak English (1995)   \n",
       "25000093  162386   200726          The Graduates (1995)   \n",
       "25000094  162386   200728    Il pesce innamorato (1999)   \n",
       "\n",
       "                               genres  rating  imdbId  \n",
       "0         Comedy|Crime|Drama|Thriller     5.0  110912  \n",
       "1         Comedy|Crime|Drama|Thriller     5.0  110912  \n",
       "2         Comedy|Crime|Drama|Thriller     4.0  110912  \n",
       "3         Comedy|Crime|Drama|Thriller     4.0  110912  \n",
       "4         Comedy|Crime|Drama|Thriller     4.0  110912  \n",
       "...                               ...     ...     ...  \n",
       "25000090           (no genres listed)     2.0   91087  \n",
       "25000091    Action|Adventure|Thriller     2.0  376263  \n",
       "25000092                       Comedy     3.5  113436  \n",
       "25000093               Children|Drama     4.0  113623  \n",
       "25000094           (no genres listed)     4.0  210225  \n",
       "\n",
       "[25000095 rows x 6 columns]"
      ]
     },
     "execution_count": 12,
     "metadata": {},
     "output_type": "execute_result"
    }
   ],
   "source": [
    "df_merged"
   ]
  },
  {
   "cell_type": "code",
   "execution_count": 13,
   "id": "b269638d-d8fd-4f4d-a70c-0c7204634e3f",
   "metadata": {},
   "outputs": [],
   "source": [
    "#df_merged.to_csv('movie_lens_data.csv', index=False)"
   ]
  },
  {
   "cell_type": "markdown",
   "id": "e3d9cf4b-0258-4aee-9ae1-5f89c78b8c62",
   "metadata": {},
   "source": [
    "Save the combined dataframe in .csv format. Since this is already done, the above code block is commented."
   ]
  },
  {
   "cell_type": "markdown",
   "id": "1c3e8fcd-91a0-44f0-8dd0-ea3cd790da4d",
   "metadata": {},
   "source": [
    "### Data Preprocessing\n"
   ]
  },
  {
   "cell_type": "code",
   "execution_count": 14,
   "id": "b1b9be43-62f2-4bc6-b819-621acd85eb85",
   "metadata": {},
   "outputs": [],
   "source": [
    "df = pd.read_csv('movie_lens_data.csv')"
   ]
  },
  {
   "cell_type": "code",
   "execution_count": 15,
   "id": "b316f748-4898-4936-bdf0-8e1e2a84efd1",
   "metadata": {},
   "outputs": [
    {
     "data": {
      "text/html": [
       "<div>\n",
       "<style scoped>\n",
       "    .dataframe tbody tr th:only-of-type {\n",
       "        vertical-align: middle;\n",
       "    }\n",
       "\n",
       "    .dataframe tbody tr th {\n",
       "        vertical-align: top;\n",
       "    }\n",
       "\n",
       "    .dataframe thead th {\n",
       "        text-align: right;\n",
       "    }\n",
       "</style>\n",
       "<table border=\"1\" class=\"dataframe\">\n",
       "  <thead>\n",
       "    <tr style=\"text-align: right;\">\n",
       "      <th></th>\n",
       "      <th>userId</th>\n",
       "      <th>movieId</th>\n",
       "      <th>title</th>\n",
       "      <th>genres</th>\n",
       "      <th>rating</th>\n",
       "      <th>imdbId</th>\n",
       "    </tr>\n",
       "  </thead>\n",
       "  <tbody>\n",
       "    <tr>\n",
       "      <th>0</th>\n",
       "      <td>1</td>\n",
       "      <td>296</td>\n",
       "      <td>Pulp Fiction (1994)</td>\n",
       "      <td>Comedy|Crime|Drama|Thriller</td>\n",
       "      <td>5.0</td>\n",
       "      <td>110912</td>\n",
       "    </tr>\n",
       "    <tr>\n",
       "      <th>1</th>\n",
       "      <td>3</td>\n",
       "      <td>296</td>\n",
       "      <td>Pulp Fiction (1994)</td>\n",
       "      <td>Comedy|Crime|Drama|Thriller</td>\n",
       "      <td>5.0</td>\n",
       "      <td>110912</td>\n",
       "    </tr>\n",
       "    <tr>\n",
       "      <th>2</th>\n",
       "      <td>4</td>\n",
       "      <td>296</td>\n",
       "      <td>Pulp Fiction (1994)</td>\n",
       "      <td>Comedy|Crime|Drama|Thriller</td>\n",
       "      <td>4.0</td>\n",
       "      <td>110912</td>\n",
       "    </tr>\n",
       "    <tr>\n",
       "      <th>3</th>\n",
       "      <td>5</td>\n",
       "      <td>296</td>\n",
       "      <td>Pulp Fiction (1994)</td>\n",
       "      <td>Comedy|Crime|Drama|Thriller</td>\n",
       "      <td>4.0</td>\n",
       "      <td>110912</td>\n",
       "    </tr>\n",
       "    <tr>\n",
       "      <th>4</th>\n",
       "      <td>7</td>\n",
       "      <td>296</td>\n",
       "      <td>Pulp Fiction (1994)</td>\n",
       "      <td>Comedy|Crime|Drama|Thriller</td>\n",
       "      <td>4.0</td>\n",
       "      <td>110912</td>\n",
       "    </tr>\n",
       "    <tr>\n",
       "      <th>...</th>\n",
       "      <td>...</td>\n",
       "      <td>...</td>\n",
       "      <td>...</td>\n",
       "      <td>...</td>\n",
       "      <td>...</td>\n",
       "      <td>...</td>\n",
       "    </tr>\n",
       "    <tr>\n",
       "      <th>25000090</th>\n",
       "      <td>162358</td>\n",
       "      <td>200192</td>\n",
       "      <td>Den frusna leoparden (1986)</td>\n",
       "      <td>(no genres listed)</td>\n",
       "      <td>2.0</td>\n",
       "      <td>91087</td>\n",
       "    </tr>\n",
       "    <tr>\n",
       "      <th>25000091</th>\n",
       "      <td>162358</td>\n",
       "      <td>200194</td>\n",
       "      <td>Tough Luck (2004)</td>\n",
       "      <td>Action|Adventure|Thriller</td>\n",
       "      <td>2.0</td>\n",
       "      <td>376263</td>\n",
       "    </tr>\n",
       "    <tr>\n",
       "      <th>25000092</th>\n",
       "      <td>162386</td>\n",
       "      <td>139970</td>\n",
       "      <td>I Don't Speak English (1995)</td>\n",
       "      <td>Comedy</td>\n",
       "      <td>3.5</td>\n",
       "      <td>113436</td>\n",
       "    </tr>\n",
       "    <tr>\n",
       "      <th>25000093</th>\n",
       "      <td>162386</td>\n",
       "      <td>200726</td>\n",
       "      <td>The Graduates (1995)</td>\n",
       "      <td>Children|Drama</td>\n",
       "      <td>4.0</td>\n",
       "      <td>113623</td>\n",
       "    </tr>\n",
       "    <tr>\n",
       "      <th>25000094</th>\n",
       "      <td>162386</td>\n",
       "      <td>200728</td>\n",
       "      <td>Il pesce innamorato (1999)</td>\n",
       "      <td>(no genres listed)</td>\n",
       "      <td>4.0</td>\n",
       "      <td>210225</td>\n",
       "    </tr>\n",
       "  </tbody>\n",
       "</table>\n",
       "<p>25000095 rows × 6 columns</p>\n",
       "</div>"
      ],
      "text/plain": [
       "          userId  movieId                         title  \\\n",
       "0              1      296           Pulp Fiction (1994)   \n",
       "1              3      296           Pulp Fiction (1994)   \n",
       "2              4      296           Pulp Fiction (1994)   \n",
       "3              5      296           Pulp Fiction (1994)   \n",
       "4              7      296           Pulp Fiction (1994)   \n",
       "...          ...      ...                           ...   \n",
       "25000090  162358   200192   Den frusna leoparden (1986)   \n",
       "25000091  162358   200194             Tough Luck (2004)   \n",
       "25000092  162386   139970  I Don't Speak English (1995)   \n",
       "25000093  162386   200726          The Graduates (1995)   \n",
       "25000094  162386   200728    Il pesce innamorato (1999)   \n",
       "\n",
       "                               genres  rating  imdbId  \n",
       "0         Comedy|Crime|Drama|Thriller     5.0  110912  \n",
       "1         Comedy|Crime|Drama|Thriller     5.0  110912  \n",
       "2         Comedy|Crime|Drama|Thriller     4.0  110912  \n",
       "3         Comedy|Crime|Drama|Thriller     4.0  110912  \n",
       "4         Comedy|Crime|Drama|Thriller     4.0  110912  \n",
       "...                               ...     ...     ...  \n",
       "25000090           (no genres listed)     2.0   91087  \n",
       "25000091    Action|Adventure|Thriller     2.0  376263  \n",
       "25000092                       Comedy     3.5  113436  \n",
       "25000093               Children|Drama     4.0  113623  \n",
       "25000094           (no genres listed)     4.0  210225  \n",
       "\n",
       "[25000095 rows x 6 columns]"
      ]
     },
     "execution_count": 15,
     "metadata": {},
     "output_type": "execute_result"
    }
   ],
   "source": [
    "df"
   ]
  },
  {
   "cell_type": "code",
   "execution_count": 16,
   "id": "845b83a1-4186-4e6c-9951-da24f859c792",
   "metadata": {},
   "outputs": [
    {
     "name": "stderr",
     "output_type": "stream",
     "text": [
      "<ipython-input-16-c9dec4e61047>:5: FutureWarning: The default value of regex will change from True to False in a future version.\n",
      "  df['title'] = df['title'].str.replace(r'\\(\\d{4}\\)', '').str.strip()\n"
     ]
    }
   ],
   "source": [
    "# Extracting the year from the movie title and creating a new column\n",
    "df['year'] = df['title'].str.extract(r'\\((\\d{4})\\)')\n",
    "\n",
    "# Removing the year from the 'title' column and trimming extra spaces\n",
    "df['title'] = df['title'].str.replace(r'\\(\\d{4}\\)', '').str.strip()"
   ]
  },
  {
   "cell_type": "code",
   "execution_count": 17,
   "id": "01beca28-188a-4037-ade1-55a1a059a507",
   "metadata": {},
   "outputs": [
    {
     "data": {
      "text/html": [
       "<div>\n",
       "<style scoped>\n",
       "    .dataframe tbody tr th:only-of-type {\n",
       "        vertical-align: middle;\n",
       "    }\n",
       "\n",
       "    .dataframe tbody tr th {\n",
       "        vertical-align: top;\n",
       "    }\n",
       "\n",
       "    .dataframe thead th {\n",
       "        text-align: right;\n",
       "    }\n",
       "</style>\n",
       "<table border=\"1\" class=\"dataframe\">\n",
       "  <thead>\n",
       "    <tr style=\"text-align: right;\">\n",
       "      <th></th>\n",
       "      <th>userId</th>\n",
       "      <th>movieId</th>\n",
       "      <th>title</th>\n",
       "      <th>year</th>\n",
       "      <th>genres</th>\n",
       "      <th>rating</th>\n",
       "      <th>imdbId</th>\n",
       "    </tr>\n",
       "  </thead>\n",
       "  <tbody>\n",
       "    <tr>\n",
       "      <th>0</th>\n",
       "      <td>1</td>\n",
       "      <td>296</td>\n",
       "      <td>Pulp Fiction</td>\n",
       "      <td>1994</td>\n",
       "      <td>Comedy|Crime|Drama|Thriller</td>\n",
       "      <td>5.0</td>\n",
       "      <td>110912</td>\n",
       "    </tr>\n",
       "    <tr>\n",
       "      <th>1</th>\n",
       "      <td>3</td>\n",
       "      <td>296</td>\n",
       "      <td>Pulp Fiction</td>\n",
       "      <td>1994</td>\n",
       "      <td>Comedy|Crime|Drama|Thriller</td>\n",
       "      <td>5.0</td>\n",
       "      <td>110912</td>\n",
       "    </tr>\n",
       "    <tr>\n",
       "      <th>2</th>\n",
       "      <td>4</td>\n",
       "      <td>296</td>\n",
       "      <td>Pulp Fiction</td>\n",
       "      <td>1994</td>\n",
       "      <td>Comedy|Crime|Drama|Thriller</td>\n",
       "      <td>4.0</td>\n",
       "      <td>110912</td>\n",
       "    </tr>\n",
       "    <tr>\n",
       "      <th>3</th>\n",
       "      <td>5</td>\n",
       "      <td>296</td>\n",
       "      <td>Pulp Fiction</td>\n",
       "      <td>1994</td>\n",
       "      <td>Comedy|Crime|Drama|Thriller</td>\n",
       "      <td>4.0</td>\n",
       "      <td>110912</td>\n",
       "    </tr>\n",
       "    <tr>\n",
       "      <th>4</th>\n",
       "      <td>7</td>\n",
       "      <td>296</td>\n",
       "      <td>Pulp Fiction</td>\n",
       "      <td>1994</td>\n",
       "      <td>Comedy|Crime|Drama|Thriller</td>\n",
       "      <td>4.0</td>\n",
       "      <td>110912</td>\n",
       "    </tr>\n",
       "    <tr>\n",
       "      <th>...</th>\n",
       "      <td>...</td>\n",
       "      <td>...</td>\n",
       "      <td>...</td>\n",
       "      <td>...</td>\n",
       "      <td>...</td>\n",
       "      <td>...</td>\n",
       "      <td>...</td>\n",
       "    </tr>\n",
       "    <tr>\n",
       "      <th>25000090</th>\n",
       "      <td>162358</td>\n",
       "      <td>200192</td>\n",
       "      <td>Den frusna leoparden</td>\n",
       "      <td>1986</td>\n",
       "      <td>(no genres listed)</td>\n",
       "      <td>2.0</td>\n",
       "      <td>91087</td>\n",
       "    </tr>\n",
       "    <tr>\n",
       "      <th>25000091</th>\n",
       "      <td>162358</td>\n",
       "      <td>200194</td>\n",
       "      <td>Tough Luck</td>\n",
       "      <td>2004</td>\n",
       "      <td>Action|Adventure|Thriller</td>\n",
       "      <td>2.0</td>\n",
       "      <td>376263</td>\n",
       "    </tr>\n",
       "    <tr>\n",
       "      <th>25000092</th>\n",
       "      <td>162386</td>\n",
       "      <td>139970</td>\n",
       "      <td>I Don't Speak English</td>\n",
       "      <td>1995</td>\n",
       "      <td>Comedy</td>\n",
       "      <td>3.5</td>\n",
       "      <td>113436</td>\n",
       "    </tr>\n",
       "    <tr>\n",
       "      <th>25000093</th>\n",
       "      <td>162386</td>\n",
       "      <td>200726</td>\n",
       "      <td>The Graduates</td>\n",
       "      <td>1995</td>\n",
       "      <td>Children|Drama</td>\n",
       "      <td>4.0</td>\n",
       "      <td>113623</td>\n",
       "    </tr>\n",
       "    <tr>\n",
       "      <th>25000094</th>\n",
       "      <td>162386</td>\n",
       "      <td>200728</td>\n",
       "      <td>Il pesce innamorato</td>\n",
       "      <td>1999</td>\n",
       "      <td>(no genres listed)</td>\n",
       "      <td>4.0</td>\n",
       "      <td>210225</td>\n",
       "    </tr>\n",
       "  </tbody>\n",
       "</table>\n",
       "<p>25000095 rows × 7 columns</p>\n",
       "</div>"
      ],
      "text/plain": [
       "          userId  movieId                  title  year  \\\n",
       "0              1      296           Pulp Fiction  1994   \n",
       "1              3      296           Pulp Fiction  1994   \n",
       "2              4      296           Pulp Fiction  1994   \n",
       "3              5      296           Pulp Fiction  1994   \n",
       "4              7      296           Pulp Fiction  1994   \n",
       "...          ...      ...                    ...   ...   \n",
       "25000090  162358   200192   Den frusna leoparden  1986   \n",
       "25000091  162358   200194             Tough Luck  2004   \n",
       "25000092  162386   139970  I Don't Speak English  1995   \n",
       "25000093  162386   200726          The Graduates  1995   \n",
       "25000094  162386   200728    Il pesce innamorato  1999   \n",
       "\n",
       "                               genres  rating  imdbId  \n",
       "0         Comedy|Crime|Drama|Thriller     5.0  110912  \n",
       "1         Comedy|Crime|Drama|Thriller     5.0  110912  \n",
       "2         Comedy|Crime|Drama|Thriller     4.0  110912  \n",
       "3         Comedy|Crime|Drama|Thriller     4.0  110912  \n",
       "4         Comedy|Crime|Drama|Thriller     4.0  110912  \n",
       "...                               ...     ...     ...  \n",
       "25000090           (no genres listed)     2.0   91087  \n",
       "25000091    Action|Adventure|Thriller     2.0  376263  \n",
       "25000092                       Comedy     3.5  113436  \n",
       "25000093               Children|Drama     4.0  113623  \n",
       "25000094           (no genres listed)     4.0  210225  \n",
       "\n",
       "[25000095 rows x 7 columns]"
      ]
     },
     "execution_count": 17,
     "metadata": {},
     "output_type": "execute_result"
    }
   ],
   "source": [
    "# Reorganizing columns for better readability\n",
    "df = df[['userId', 'movieId', 'title', 'year', 'genres', 'rating', 'imdbId']]\n",
    "df"
   ]
  },
  {
   "cell_type": "code",
   "execution_count": 18,
   "id": "dc4af799-220e-4ba4-8de7-d16d5be578cf",
   "metadata": {},
   "outputs": [
    {
     "data": {
      "text/html": [
       "<div>\n",
       "<style scoped>\n",
       "    .dataframe tbody tr th:only-of-type {\n",
       "        vertical-align: middle;\n",
       "    }\n",
       "\n",
       "    .dataframe tbody tr th {\n",
       "        vertical-align: top;\n",
       "    }\n",
       "\n",
       "    .dataframe thead th {\n",
       "        text-align: right;\n",
       "    }\n",
       "</style>\n",
       "<table border=\"1\" class=\"dataframe\">\n",
       "  <thead>\n",
       "    <tr style=\"text-align: right;\">\n",
       "      <th></th>\n",
       "      <th>userId</th>\n",
       "      <th>movieId</th>\n",
       "      <th>title</th>\n",
       "      <th>year</th>\n",
       "      <th>genres</th>\n",
       "      <th>rating</th>\n",
       "      <th>imdbId</th>\n",
       "    </tr>\n",
       "  </thead>\n",
       "  <tbody>\n",
       "    <tr>\n",
       "      <th>0</th>\n",
       "      <td>1</td>\n",
       "      <td>296</td>\n",
       "      <td>Pulp Fiction</td>\n",
       "      <td>1994</td>\n",
       "      <td>Comedy,Crime,Drama,Thriller</td>\n",
       "      <td>5.0</td>\n",
       "      <td>110912</td>\n",
       "    </tr>\n",
       "    <tr>\n",
       "      <th>1</th>\n",
       "      <td>3</td>\n",
       "      <td>296</td>\n",
       "      <td>Pulp Fiction</td>\n",
       "      <td>1994</td>\n",
       "      <td>Comedy,Crime,Drama,Thriller</td>\n",
       "      <td>5.0</td>\n",
       "      <td>110912</td>\n",
       "    </tr>\n",
       "    <tr>\n",
       "      <th>2</th>\n",
       "      <td>4</td>\n",
       "      <td>296</td>\n",
       "      <td>Pulp Fiction</td>\n",
       "      <td>1994</td>\n",
       "      <td>Comedy,Crime,Drama,Thriller</td>\n",
       "      <td>4.0</td>\n",
       "      <td>110912</td>\n",
       "    </tr>\n",
       "    <tr>\n",
       "      <th>3</th>\n",
       "      <td>5</td>\n",
       "      <td>296</td>\n",
       "      <td>Pulp Fiction</td>\n",
       "      <td>1994</td>\n",
       "      <td>Comedy,Crime,Drama,Thriller</td>\n",
       "      <td>4.0</td>\n",
       "      <td>110912</td>\n",
       "    </tr>\n",
       "    <tr>\n",
       "      <th>4</th>\n",
       "      <td>7</td>\n",
       "      <td>296</td>\n",
       "      <td>Pulp Fiction</td>\n",
       "      <td>1994</td>\n",
       "      <td>Comedy,Crime,Drama,Thriller</td>\n",
       "      <td>4.0</td>\n",
       "      <td>110912</td>\n",
       "    </tr>\n",
       "    <tr>\n",
       "      <th>...</th>\n",
       "      <td>...</td>\n",
       "      <td>...</td>\n",
       "      <td>...</td>\n",
       "      <td>...</td>\n",
       "      <td>...</td>\n",
       "      <td>...</td>\n",
       "      <td>...</td>\n",
       "    </tr>\n",
       "    <tr>\n",
       "      <th>25000090</th>\n",
       "      <td>162358</td>\n",
       "      <td>200192</td>\n",
       "      <td>Den frusna leoparden</td>\n",
       "      <td>1986</td>\n",
       "      <td>(no genres listed)</td>\n",
       "      <td>2.0</td>\n",
       "      <td>91087</td>\n",
       "    </tr>\n",
       "    <tr>\n",
       "      <th>25000091</th>\n",
       "      <td>162358</td>\n",
       "      <td>200194</td>\n",
       "      <td>Tough Luck</td>\n",
       "      <td>2004</td>\n",
       "      <td>Action,Adventure,Thriller</td>\n",
       "      <td>2.0</td>\n",
       "      <td>376263</td>\n",
       "    </tr>\n",
       "    <tr>\n",
       "      <th>25000092</th>\n",
       "      <td>162386</td>\n",
       "      <td>139970</td>\n",
       "      <td>I Don't Speak English</td>\n",
       "      <td>1995</td>\n",
       "      <td>Comedy</td>\n",
       "      <td>3.5</td>\n",
       "      <td>113436</td>\n",
       "    </tr>\n",
       "    <tr>\n",
       "      <th>25000093</th>\n",
       "      <td>162386</td>\n",
       "      <td>200726</td>\n",
       "      <td>The Graduates</td>\n",
       "      <td>1995</td>\n",
       "      <td>Children,Drama</td>\n",
       "      <td>4.0</td>\n",
       "      <td>113623</td>\n",
       "    </tr>\n",
       "    <tr>\n",
       "      <th>25000094</th>\n",
       "      <td>162386</td>\n",
       "      <td>200728</td>\n",
       "      <td>Il pesce innamorato</td>\n",
       "      <td>1999</td>\n",
       "      <td>(no genres listed)</td>\n",
       "      <td>4.0</td>\n",
       "      <td>210225</td>\n",
       "    </tr>\n",
       "  </tbody>\n",
       "</table>\n",
       "<p>25000095 rows × 7 columns</p>\n",
       "</div>"
      ],
      "text/plain": [
       "          userId  movieId                  title  year  \\\n",
       "0              1      296           Pulp Fiction  1994   \n",
       "1              3      296           Pulp Fiction  1994   \n",
       "2              4      296           Pulp Fiction  1994   \n",
       "3              5      296           Pulp Fiction  1994   \n",
       "4              7      296           Pulp Fiction  1994   \n",
       "...          ...      ...                    ...   ...   \n",
       "25000090  162358   200192   Den frusna leoparden  1986   \n",
       "25000091  162358   200194             Tough Luck  2004   \n",
       "25000092  162386   139970  I Don't Speak English  1995   \n",
       "25000093  162386   200726          The Graduates  1995   \n",
       "25000094  162386   200728    Il pesce innamorato  1999   \n",
       "\n",
       "                               genres  rating  imdbId  \n",
       "0         Comedy,Crime,Drama,Thriller     5.0  110912  \n",
       "1         Comedy,Crime,Drama,Thriller     5.0  110912  \n",
       "2         Comedy,Crime,Drama,Thriller     4.0  110912  \n",
       "3         Comedy,Crime,Drama,Thriller     4.0  110912  \n",
       "4         Comedy,Crime,Drama,Thriller     4.0  110912  \n",
       "...                               ...     ...     ...  \n",
       "25000090           (no genres listed)     2.0   91087  \n",
       "25000091    Action,Adventure,Thriller     2.0  376263  \n",
       "25000092                       Comedy     3.5  113436  \n",
       "25000093               Children,Drama     4.0  113623  \n",
       "25000094           (no genres listed)     4.0  210225  \n",
       "\n",
       "[25000095 rows x 7 columns]"
      ]
     },
     "execution_count": 18,
     "metadata": {},
     "output_type": "execute_result"
    }
   ],
   "source": [
    "# Replacing the pipe '|' with a comma ',' in the genres column\n",
    "df['genres'] = df['genres'].str.replace('|', ',', regex=False)\n",
    "df"
   ]
  },
  {
   "cell_type": "markdown",
   "id": "967ee2f1-30c7-44c5-b496-d03924f1165c",
   "metadata": {},
   "source": [
    "#### Dataframe Summary\n"
   ]
  },
  {
   "cell_type": "code",
   "execution_count": 19,
   "id": "f5ff0076-6f04-445c-881f-823a920a6d0e",
   "metadata": {},
   "outputs": [
    {
     "name": "stdout",
     "output_type": "stream",
     "text": [
      "Dimension of the dataframe is (25000095, 7)\n"
     ]
    }
   ],
   "source": [
    "# Display the dimensions of the dataframe\n",
    "print(\"Dimension of the dataframe is\",df.shape)"
   ]
  },
  {
   "cell_type": "code",
   "execution_count": 20,
   "id": "4b71667c-dd6a-4d1b-b1b0-1941750181f9",
   "metadata": {},
   "outputs": [
    {
     "name": "stdout",
     "output_type": "stream",
     "text": [
      "<class 'pandas.core.frame.DataFrame'>\n",
      "RangeIndex: 25000095 entries, 0 to 25000094\n",
      "Data columns (total 7 columns):\n",
      " #   Column   Dtype  \n",
      "---  ------   -----  \n",
      " 0   userId   int64  \n",
      " 1   movieId  int64  \n",
      " 2   title    object \n",
      " 3   year     object \n",
      " 4   genres   object \n",
      " 5   rating   float64\n",
      " 6   imdbId   int64  \n",
      "dtypes: float64(1), int64(3), object(3)\n",
      "memory usage: 1.3+ GB\n"
     ]
    }
   ],
   "source": [
    "# Display a concise summary of the dataframe\n",
    "df.info()"
   ]
  },
  {
   "cell_type": "code",
   "execution_count": 21,
   "id": "c44600db-a61d-46e6-b7eb-fdff9030a484",
   "metadata": {},
   "outputs": [
    {
     "data": {
      "text/plain": [
       "userId         0\n",
       "movieId        0\n",
       "title          0\n",
       "year       11740\n",
       "genres         0\n",
       "rating         0\n",
       "imdbId         0\n",
       "dtype: int64"
      ]
     },
     "execution_count": 21,
     "metadata": {},
     "output_type": "execute_result"
    }
   ],
   "source": [
    "#count the number of null values in each column\n",
    "df.isnull().sum()"
   ]
  },
  {
   "cell_type": "markdown",
   "id": "bdf11139-457e-4a02-b00c-fca5d8bbb66a",
   "metadata": {},
   "source": [
    "#### Data Type Analysis\n"
   ]
  },
  {
   "cell_type": "code",
   "execution_count": 22,
   "id": "72d35ee6-6fe9-480b-9891-6b03a85a5f78",
   "metadata": {},
   "outputs": [
    {
     "name": "stdout",
     "output_type": "stream",
     "text": [
      "Number of columns with float values:  1\n",
      "\n",
      "\n",
      "The columns are: ['rating']\n",
      "\n",
      "\n",
      "-----------------------------------------------------------------------------------------------------------------\n",
      "\n",
      "\n",
      "Number of columns with numeric values:  3\n",
      "\n",
      "\n",
      "The columns are: ['userId', 'movieId', 'imdbId']\n",
      "\n",
      "\n",
      "-----------------------------------------------------------------------------------------------------------------\n",
      "\n",
      "\n",
      "Number of columns with object values:  3\n",
      "\n",
      "\n",
      "The columns are: ['title', 'year', 'genres']\n",
      "\n",
      "\n",
      "-----------------------------------------------------------------------------------------------------------------\n",
      "\n",
      "\n"
     ]
    }
   ],
   "source": [
    "# Identifying columns based on their data types\n",
    "\n",
    "#columns with float values\n",
    "float_columns = df.columns[df.dtypes==np.float64].tolist()\n",
    "\n",
    "#columns with object values\n",
    "object_columns = df.columns[df.dtypes==object].tolist()\n",
    "\n",
    "#columns with numeric values\n",
    "numeric_columns = df.columns[df.dtypes==np.int64].tolist()\n",
    "\n",
    "print(\"Number of columns with float values: \", len(float_columns))\n",
    "print('\\n')\n",
    "print(\"The columns are:\", float_columns)\n",
    "print('\\n')\n",
    "print(\"-----------------------------------------------------------------------------------------------------------------\")\n",
    "print('\\n')\n",
    "print(\"Number of columns with numeric values: \", len(numeric_columns))\n",
    "print('\\n')\n",
    "print(\"The columns are:\", numeric_columns)\n",
    "print('\\n')\n",
    "print(\"-----------------------------------------------------------------------------------------------------------------\")\n",
    "print('\\n')\n",
    "print(\"Number of columns with object values: \", len(object_columns))\n",
    "print('\\n')\n",
    "print(\"The columns are:\", object_columns)\n",
    "print('\\n')\n",
    "print(\"-----------------------------------------------------------------------------------------------------------------\")\n",
    "print('\\n')"
   ]
  },
  {
   "cell_type": "code",
   "execution_count": 23,
   "id": "e8521529-e84c-4139-a85d-ad5e13aa2404",
   "metadata": {},
   "outputs": [
    {
     "data": {
      "text/html": [
       "<div>\n",
       "<style scoped>\n",
       "    .dataframe tbody tr th:only-of-type {\n",
       "        vertical-align: middle;\n",
       "    }\n",
       "\n",
       "    .dataframe tbody tr th {\n",
       "        vertical-align: top;\n",
       "    }\n",
       "\n",
       "    .dataframe thead th {\n",
       "        text-align: right;\n",
       "    }\n",
       "</style>\n",
       "<table border=\"1\" class=\"dataframe\">\n",
       "  <thead>\n",
       "    <tr style=\"text-align: right;\">\n",
       "      <th></th>\n",
       "      <th>Count</th>\n",
       "      <th>Mean</th>\n",
       "      <th>Standard Deviation</th>\n",
       "      <th>Minimum</th>\n",
       "      <th>25%</th>\n",
       "      <th>50%</th>\n",
       "      <th>75%</th>\n",
       "      <th>Maximum</th>\n",
       "    </tr>\n",
       "  </thead>\n",
       "  <tbody>\n",
       "    <tr>\n",
       "      <th>rating</th>\n",
       "      <td>25000095.0</td>\n",
       "      <td>3.533854</td>\n",
       "      <td>1.060744</td>\n",
       "      <td>0.5</td>\n",
       "      <td>3.0</td>\n",
       "      <td>3.5</td>\n",
       "      <td>4.0</td>\n",
       "      <td>5.0</td>\n",
       "    </tr>\n",
       "  </tbody>\n",
       "</table>\n",
       "</div>"
      ],
      "text/plain": [
       "             Count      Mean  Standard Deviation  Minimum  25%  50%  75%  \\\n",
       "rating  25000095.0  3.533854            1.060744      0.5  3.0  3.5  4.0   \n",
       "\n",
       "        Maximum  \n",
       "rating      5.0  "
      ]
     },
     "execution_count": 23,
     "metadata": {},
     "output_type": "execute_result"
    }
   ],
   "source": [
    "#Summary statistics for all float columns\n",
    "float_values_summary = df[float_columns].describe().transpose()\n",
    "float_values_summary = float_values_summary.rename(columns={'count': 'Count', 'mean': 'Mean', 'std': 'Standard Deviation', 'min':'Minimum','max':'Maximum'})\n",
    "float_values_summary"
   ]
  },
  {
   "cell_type": "code",
   "execution_count": 24,
   "id": "ff401cdd-9477-400e-a619-b094f0a45643",
   "metadata": {},
   "outputs": [
    {
     "data": {
      "text/html": [
       "<div>\n",
       "<style scoped>\n",
       "    .dataframe tbody tr th:only-of-type {\n",
       "        vertical-align: middle;\n",
       "    }\n",
       "\n",
       "    .dataframe tbody tr th {\n",
       "        vertical-align: top;\n",
       "    }\n",
       "\n",
       "    .dataframe thead th {\n",
       "        text-align: right;\n",
       "    }\n",
       "</style>\n",
       "<table border=\"1\" class=\"dataframe\">\n",
       "  <thead>\n",
       "    <tr style=\"text-align: right;\">\n",
       "      <th></th>\n",
       "      <th>Count</th>\n",
       "      <th>Mean</th>\n",
       "      <th>Standard Deviation</th>\n",
       "      <th>Minimum</th>\n",
       "      <th>25%</th>\n",
       "      <th>50%</th>\n",
       "      <th>75%</th>\n",
       "      <th>Maximum</th>\n",
       "    </tr>\n",
       "  </thead>\n",
       "  <tbody>\n",
       "    <tr>\n",
       "      <th>userId</th>\n",
       "      <td>25000095.0</td>\n",
       "      <td>81189.281154</td>\n",
       "      <td>46791.715897</td>\n",
       "      <td>1.0</td>\n",
       "      <td>40510.0</td>\n",
       "      <td>80914.0</td>\n",
       "      <td>121557.0</td>\n",
       "      <td>162541.0</td>\n",
       "    </tr>\n",
       "    <tr>\n",
       "      <th>movieId</th>\n",
       "      <td>25000095.0</td>\n",
       "      <td>21387.981943</td>\n",
       "      <td>39198.862101</td>\n",
       "      <td>1.0</td>\n",
       "      <td>1196.0</td>\n",
       "      <td>2947.0</td>\n",
       "      <td>8623.0</td>\n",
       "      <td>209171.0</td>\n",
       "    </tr>\n",
       "    <tr>\n",
       "      <th>imdbId</th>\n",
       "      <td>25000095.0</td>\n",
       "      <td>395565.283590</td>\n",
       "      <td>766669.443597</td>\n",
       "      <td>1.0</td>\n",
       "      <td>99088.0</td>\n",
       "      <td>118617.0</td>\n",
       "      <td>318462.0</td>\n",
       "      <td>11170942.0</td>\n",
       "    </tr>\n",
       "  </tbody>\n",
       "</table>\n",
       "</div>"
      ],
      "text/plain": [
       "              Count           Mean  Standard Deviation  Minimum      25%  \\\n",
       "userId   25000095.0   81189.281154        46791.715897      1.0  40510.0   \n",
       "movieId  25000095.0   21387.981943        39198.862101      1.0   1196.0   \n",
       "imdbId   25000095.0  395565.283590       766669.443597      1.0  99088.0   \n",
       "\n",
       "              50%       75%     Maximum  \n",
       "userId    80914.0  121557.0    162541.0  \n",
       "movieId    2947.0    8623.0    209171.0  \n",
       "imdbId   118617.0  318462.0  11170942.0  "
      ]
     },
     "execution_count": 24,
     "metadata": {},
     "output_type": "execute_result"
    }
   ],
   "source": [
    "#Summary statistics for all numeric columns\n",
    "numeric_values_summary = df[numeric_columns].describe().transpose()\n",
    "numeric_values_summary = numeric_values_summary.rename(columns={'count': 'Count', 'mean': 'Mean', 'std': 'Standard Deviation', 'min':'Minimum','max':'Maximum'})\n",
    "numeric_values_summary"
   ]
  },
  {
   "cell_type": "code",
   "execution_count": 25,
   "id": "a31b331f-2f2d-432b-9163-132d5bbe0a3b",
   "metadata": {},
   "outputs": [
    {
     "data": {
      "text/html": [
       "<div>\n",
       "<style scoped>\n",
       "    .dataframe tbody tr th:only-of-type {\n",
       "        vertical-align: middle;\n",
       "    }\n",
       "\n",
       "    .dataframe tbody tr th {\n",
       "        vertical-align: top;\n",
       "    }\n",
       "\n",
       "    .dataframe thead th {\n",
       "        text-align: right;\n",
       "    }\n",
       "</style>\n",
       "<table border=\"1\" class=\"dataframe\">\n",
       "  <thead>\n",
       "    <tr style=\"text-align: right;\">\n",
       "      <th></th>\n",
       "      <th>Count</th>\n",
       "      <th>Unique</th>\n",
       "      <th>Top</th>\n",
       "      <th>Frequency</th>\n",
       "    </tr>\n",
       "  </thead>\n",
       "  <tbody>\n",
       "    <tr>\n",
       "      <th>title</th>\n",
       "      <td>25000095</td>\n",
       "      <td>55463</td>\n",
       "      <td>Forrest Gump</td>\n",
       "      <td>81491</td>\n",
       "    </tr>\n",
       "    <tr>\n",
       "      <th>year</th>\n",
       "      <td>24988355</td>\n",
       "      <td>135</td>\n",
       "      <td>1995</td>\n",
       "      <td>1497480</td>\n",
       "    </tr>\n",
       "    <tr>\n",
       "      <th>genres</th>\n",
       "      <td>25000095</td>\n",
       "      <td>1621</td>\n",
       "      <td>Drama</td>\n",
       "      <td>1765705</td>\n",
       "    </tr>\n",
       "  </tbody>\n",
       "</table>\n",
       "</div>"
      ],
      "text/plain": [
       "           Count Unique           Top Frequency\n",
       "title   25000095  55463  Forrest Gump     81491\n",
       "year    24988355    135          1995   1497480\n",
       "genres  25000095   1621         Drama   1765705"
      ]
     },
     "execution_count": 25,
     "metadata": {},
     "output_type": "execute_result"
    }
   ],
   "source": [
    "#Summary statistics for all string variables\n",
    "obj_values_summary = df[object_columns].describe().transpose()\n",
    "obj_values_summary = obj_values_summary.rename(columns={'count': 'Count', 'unique': 'Unique', 'top': 'Top', 'freq': 'Frequency'})\n",
    "obj_values_summary"
   ]
  },
  {
   "cell_type": "code",
   "execution_count": 26,
   "id": "9822a2d5-24c6-4410-8e41-61f2a6600a2c",
   "metadata": {},
   "outputs": [
    {
     "data": {
      "text/html": [
       "<div>\n",
       "<style scoped>\n",
       "    .dataframe tbody tr th:only-of-type {\n",
       "        vertical-align: middle;\n",
       "    }\n",
       "\n",
       "    .dataframe tbody tr th {\n",
       "        vertical-align: top;\n",
       "    }\n",
       "\n",
       "    .dataframe thead th {\n",
       "        text-align: right;\n",
       "    }\n",
       "</style>\n",
       "<table border=\"1\" class=\"dataframe\">\n",
       "  <thead>\n",
       "    <tr style=\"text-align: right;\">\n",
       "      <th></th>\n",
       "      <th>Column Name</th>\n",
       "      <th>Maximum Value</th>\n",
       "      <th>Minimum Value</th>\n",
       "    </tr>\n",
       "  </thead>\n",
       "  <tbody>\n",
       "    <tr>\n",
       "      <th>0</th>\n",
       "      <td>userId</td>\n",
       "      <td>162541</td>\n",
       "      <td>1</td>\n",
       "    </tr>\n",
       "    <tr>\n",
       "      <th>1</th>\n",
       "      <td>movieId</td>\n",
       "      <td>209171</td>\n",
       "      <td>1</td>\n",
       "    </tr>\n",
       "    <tr>\n",
       "      <th>2</th>\n",
       "      <td>imdbId</td>\n",
       "      <td>11170942</td>\n",
       "      <td>1</td>\n",
       "    </tr>\n",
       "  </tbody>\n",
       "</table>\n",
       "</div>"
      ],
      "text/plain": [
       "  Column Name Maximum Value Minimum Value\n",
       "0      userId        162541             1\n",
       "1     movieId        209171             1\n",
       "2      imdbId      11170942             1"
      ]
     },
     "execution_count": 26,
     "metadata": {},
     "output_type": "execute_result"
    }
   ],
   "source": [
    "max_min_numeric_columns = pd.DataFrame(columns = ['Column Name','Maximum Value', 'Minimum Value'])\n",
    "#finding the maximum and minimum values in every numeric column\n",
    "for column in numeric_columns:\n",
    "    maxi = df[column].max()\n",
    "    mini = df[column].min()\n",
    "    temp_df = pd.DataFrame({\"Column Name\": [column], \"Maximum Value\": [maxi], \"Minimum Value\": [mini]})\n",
    "    max_min_numeric_columns = pd.concat([max_min_numeric_columns, temp_df], ignore_index=True)  \n",
    "    \n",
    "max_min_numeric_columns"
   ]
  },
  {
   "cell_type": "code",
   "execution_count": 27,
   "id": "a1aa7396-5c41-49e3-952b-690b3f36493e",
   "metadata": {},
   "outputs": [
    {
     "data": {
      "text/html": [
       "<div>\n",
       "<style scoped>\n",
       "    .dataframe tbody tr th:only-of-type {\n",
       "        vertical-align: middle;\n",
       "    }\n",
       "\n",
       "    .dataframe tbody tr th {\n",
       "        vertical-align: top;\n",
       "    }\n",
       "\n",
       "    .dataframe thead th {\n",
       "        text-align: right;\n",
       "    }\n",
       "</style>\n",
       "<table border=\"1\" class=\"dataframe\">\n",
       "  <thead>\n",
       "    <tr style=\"text-align: right;\">\n",
       "      <th></th>\n",
       "      <th>Column Name</th>\n",
       "      <th>Maximum Value</th>\n",
       "      <th>Minimum Value</th>\n",
       "    </tr>\n",
       "  </thead>\n",
       "  <tbody>\n",
       "    <tr>\n",
       "      <th>0</th>\n",
       "      <td>rating</td>\n",
       "      <td>5.0</td>\n",
       "      <td>0.5</td>\n",
       "    </tr>\n",
       "  </tbody>\n",
       "</table>\n",
       "</div>"
      ],
      "text/plain": [
       "  Column Name  Maximum Value  Minimum Value\n",
       "0      rating            5.0            0.5"
      ]
     },
     "execution_count": 27,
     "metadata": {},
     "output_type": "execute_result"
    }
   ],
   "source": [
    "max_min_float_columns = pd.DataFrame(columns = ['Column Name','Maximum Value', 'Minimum Value'])\n",
    "#finding the maximum and minimum values in every float column\n",
    "for column in float_columns:\n",
    "    maxi = df[column].max()\n",
    "    mini = df[column].min()\n",
    "    temp_df = pd.DataFrame({\"Column Name\": [column], \"Maximum Value\": [maxi], \"Minimum Value\": [mini]})\n",
    "    max_min_float_columns = pd.concat([max_min_float_columns, temp_df], ignore_index=True)\n",
    "    \n",
    "max_min_float_columns"
   ]
  },
  {
   "cell_type": "code",
   "execution_count": 28,
   "id": "94980f70-913c-450f-98d8-99423e774e40",
   "metadata": {},
   "outputs": [
    {
     "name": "stdout",
     "output_type": "stream",
     "text": [
      "The number of unique values in userId: 162541\n",
      "The number of unique values in movieId: 59047\n",
      "The number of unique values in title: 55463\n",
      "The number of unique values in year: 136\n",
      "The number of unique values in genres: 1621\n",
      "The number of unique values in rating: 10\n",
      "The number of unique values in imdbId: 59047\n"
     ]
    }
   ],
   "source": [
    "#number of unique values in each column of the dataframe\n",
    "for col in df.columns:\n",
    "    print(f'The number of unique values in {col}:',len(df[col].unique()))\n",
    "    #If the number of unique values is equal to the number of rows, the column can be dropped as it does not provide any useful information.\n",
    "    if len(df[col].unique())==len(df):\n",
    "        print(f'This {col} can be dropped')"
   ]
  },
  {
   "cell_type": "markdown",
   "id": "c8d49340-c55d-4dbd-82e1-8a58ff83ac30",
   "metadata": {},
   "source": [
    "#### Subsetting Data for Further processing"
   ]
  },
  {
   "cell_type": "code",
   "execution_count": 29,
   "id": "49cdfe8c-2e9f-4258-a211-1aa1d5437d12",
   "metadata": {},
   "outputs": [],
   "source": [
    "unique_user_ids = df['userId'].unique()[:45000]\n",
    "df = df[df['userId'].isin(unique_user_ids)]"
   ]
  },
  {
   "cell_type": "markdown",
   "id": "46b089c4-257c-47d7-8ea3-d87e98ff5bba",
   "metadata": {},
   "source": [
    "The original dataset contains approximately 25 million records, which is quite large and may pose computational challenges, especially for resource-intensive machine learning models.To make the dataset more manageable and ensure that the analysis is computationally feasible with the available resources, we subset the data to include only the first 45,000 unique users. This reduces the dataset size to around 10 million records, which is more practical for processing."
   ]
  },
  {
   "cell_type": "code",
   "execution_count": 30,
   "id": "f591c6dc-e3ce-4aff-ba31-fbc5b8931cc7",
   "metadata": {},
   "outputs": [
    {
     "data": {
      "text/html": [
       "<div>\n",
       "<style scoped>\n",
       "    .dataframe tbody tr th:only-of-type {\n",
       "        vertical-align: middle;\n",
       "    }\n",
       "\n",
       "    .dataframe tbody tr th {\n",
       "        vertical-align: top;\n",
       "    }\n",
       "\n",
       "    .dataframe thead th {\n",
       "        text-align: right;\n",
       "    }\n",
       "</style>\n",
       "<table border=\"1\" class=\"dataframe\">\n",
       "  <thead>\n",
       "    <tr style=\"text-align: right;\">\n",
       "      <th></th>\n",
       "      <th>userId</th>\n",
       "      <th>movieId</th>\n",
       "      <th>title</th>\n",
       "      <th>year</th>\n",
       "      <th>genres</th>\n",
       "      <th>rating</th>\n",
       "      <th>imdbId</th>\n",
       "    </tr>\n",
       "  </thead>\n",
       "  <tbody>\n",
       "    <tr>\n",
       "      <th>0</th>\n",
       "      <td>1</td>\n",
       "      <td>296</td>\n",
       "      <td>Pulp Fiction</td>\n",
       "      <td>1994</td>\n",
       "      <td>Comedy,Crime,Drama,Thriller</td>\n",
       "      <td>5.0</td>\n",
       "      <td>110912</td>\n",
       "    </tr>\n",
       "    <tr>\n",
       "      <th>1</th>\n",
       "      <td>3</td>\n",
       "      <td>296</td>\n",
       "      <td>Pulp Fiction</td>\n",
       "      <td>1994</td>\n",
       "      <td>Comedy,Crime,Drama,Thriller</td>\n",
       "      <td>5.0</td>\n",
       "      <td>110912</td>\n",
       "    </tr>\n",
       "    <tr>\n",
       "      <th>2</th>\n",
       "      <td>4</td>\n",
       "      <td>296</td>\n",
       "      <td>Pulp Fiction</td>\n",
       "      <td>1994</td>\n",
       "      <td>Comedy,Crime,Drama,Thriller</td>\n",
       "      <td>4.0</td>\n",
       "      <td>110912</td>\n",
       "    </tr>\n",
       "    <tr>\n",
       "      <th>3</th>\n",
       "      <td>5</td>\n",
       "      <td>296</td>\n",
       "      <td>Pulp Fiction</td>\n",
       "      <td>1994</td>\n",
       "      <td>Comedy,Crime,Drama,Thriller</td>\n",
       "      <td>4.0</td>\n",
       "      <td>110912</td>\n",
       "    </tr>\n",
       "    <tr>\n",
       "      <th>4</th>\n",
       "      <td>7</td>\n",
       "      <td>296</td>\n",
       "      <td>Pulp Fiction</td>\n",
       "      <td>1994</td>\n",
       "      <td>Comedy,Crime,Drama,Thriller</td>\n",
       "      <td>4.0</td>\n",
       "      <td>110912</td>\n",
       "    </tr>\n",
       "    <tr>\n",
       "      <th>...</th>\n",
       "      <td>...</td>\n",
       "      <td>...</td>\n",
       "      <td>...</td>\n",
       "      <td>...</td>\n",
       "      <td>...</td>\n",
       "      <td>...</td>\n",
       "      <td>...</td>\n",
       "    </tr>\n",
       "    <tr>\n",
       "      <th>24995011</th>\n",
       "      <td>91630</td>\n",
       "      <td>128362</td>\n",
       "      <td>Burn Paris Burn</td>\n",
       "      <td>2009</td>\n",
       "      <td>Animation,Fantasy,Mystery</td>\n",
       "      <td>3.5</td>\n",
       "      <td>1379057</td>\n",
       "    </tr>\n",
       "    <tr>\n",
       "      <th>24995015</th>\n",
       "      <td>91630</td>\n",
       "      <td>140419</td>\n",
       "      <td>The Invisible Boy</td>\n",
       "      <td>1957</td>\n",
       "      <td>Adventure,Children,Comedy,Sci-Fi</td>\n",
       "      <td>2.5</td>\n",
       "      <td>50546</td>\n",
       "    </tr>\n",
       "    <tr>\n",
       "      <th>24995023</th>\n",
       "      <td>91776</td>\n",
       "      <td>145246</td>\n",
       "      <td>Fist of Fury 1991</td>\n",
       "      <td>1991</td>\n",
       "      <td>Action,Comedy</td>\n",
       "      <td>3.5</td>\n",
       "      <td>103296</td>\n",
       "    </tr>\n",
       "    <tr>\n",
       "      <th>24995027</th>\n",
       "      <td>91776</td>\n",
       "      <td>172221</td>\n",
       "      <td>School for Seduction</td>\n",
       "      <td>2004</td>\n",
       "      <td>Comedy,Drama,Romance</td>\n",
       "      <td>2.5</td>\n",
       "      <td>368249</td>\n",
       "    </tr>\n",
       "    <tr>\n",
       "      <th>24995029</th>\n",
       "      <td>91776</td>\n",
       "      <td>186447</td>\n",
       "      <td>The Sweet Sex and Love</td>\n",
       "      <td>2003</td>\n",
       "      <td>Drama,Romance</td>\n",
       "      <td>2.5</td>\n",
       "      <td>365484</td>\n",
       "    </tr>\n",
       "  </tbody>\n",
       "</table>\n",
       "<p>10300127 rows × 7 columns</p>\n",
       "</div>"
      ],
      "text/plain": [
       "          userId  movieId                   title  year  \\\n",
       "0              1      296            Pulp Fiction  1994   \n",
       "1              3      296            Pulp Fiction  1994   \n",
       "2              4      296            Pulp Fiction  1994   \n",
       "3              5      296            Pulp Fiction  1994   \n",
       "4              7      296            Pulp Fiction  1994   \n",
       "...          ...      ...                     ...   ...   \n",
       "24995011   91630   128362         Burn Paris Burn  2009   \n",
       "24995015   91630   140419       The Invisible Boy  1957   \n",
       "24995023   91776   145246       Fist of Fury 1991  1991   \n",
       "24995027   91776   172221    School for Seduction  2004   \n",
       "24995029   91776   186447  The Sweet Sex and Love  2003   \n",
       "\n",
       "                                    genres  rating   imdbId  \n",
       "0              Comedy,Crime,Drama,Thriller     5.0   110912  \n",
       "1              Comedy,Crime,Drama,Thriller     5.0   110912  \n",
       "2              Comedy,Crime,Drama,Thriller     4.0   110912  \n",
       "3              Comedy,Crime,Drama,Thriller     4.0   110912  \n",
       "4              Comedy,Crime,Drama,Thriller     4.0   110912  \n",
       "...                                    ...     ...      ...  \n",
       "24995011         Animation,Fantasy,Mystery     3.5  1379057  \n",
       "24995015  Adventure,Children,Comedy,Sci-Fi     2.5    50546  \n",
       "24995023                     Action,Comedy     3.5   103296  \n",
       "24995027              Comedy,Drama,Romance     2.5   368249  \n",
       "24995029                     Drama,Romance     2.5   365484  \n",
       "\n",
       "[10300127 rows x 7 columns]"
      ]
     },
     "execution_count": 30,
     "metadata": {},
     "output_type": "execute_result"
    }
   ],
   "source": [
    "df"
   ]
  },
  {
   "cell_type": "code",
   "execution_count": 31,
   "id": "b7363a83-878b-4b15-9c44-20d1f7c0f82b",
   "metadata": {},
   "outputs": [
    {
     "name": "stdout",
     "output_type": "stream",
     "text": [
      "<class 'pandas.core.frame.DataFrame'>\n",
      "Int64Index: 10300127 entries, 0 to 24995029\n",
      "Data columns (total 7 columns):\n",
      " #   Column   Dtype  \n",
      "---  ------   -----  \n",
      " 0   userId   int64  \n",
      " 1   movieId  int64  \n",
      " 2   title    object \n",
      " 3   year     object \n",
      " 4   genres   object \n",
      " 5   rating   float64\n",
      " 6   imdbId   int64  \n",
      "dtypes: float64(1), int64(3), object(3)\n",
      "memory usage: 628.7+ MB\n"
     ]
    }
   ],
   "source": [
    "df.info()"
   ]
  },
  {
   "cell_type": "code",
   "execution_count": 32,
   "id": "a7e82eb1-864b-477b-a5f2-d4b7fdff945b",
   "metadata": {},
   "outputs": [],
   "source": [
    "vis_df = df.copy()"
   ]
  },
  {
   "cell_type": "markdown",
   "id": "863abb3c-bb34-4355-af05-38ee6f560948",
   "metadata": {},
   "source": [
    "The dataframe will be solely used for visualisation purposes."
   ]
  },
  {
   "cell_type": "code",
   "execution_count": 33,
   "id": "68be5b3f-1fe6-473d-81ad-41b2532285ee",
   "metadata": {},
   "outputs": [
    {
     "name": "stdout",
     "output_type": "stream",
     "text": [
      "<class 'pandas.core.frame.DataFrame'>\n",
      "Int64Index: 10300127 entries, 0 to 24995029\n",
      "Data columns (total 7 columns):\n",
      " #   Column   Dtype  \n",
      "---  ------   -----  \n",
      " 0   userId   int64  \n",
      " 1   movieId  int64  \n",
      " 2   title    object \n",
      " 3   year     object \n",
      " 4   genres   object \n",
      " 5   rating   float64\n",
      " 6   imdbId   int64  \n",
      "dtypes: float64(1), int64(3), object(3)\n",
      "memory usage: 628.7+ MB\n"
     ]
    }
   ],
   "source": [
    "vis_df.info()"
   ]
  },
  {
   "cell_type": "markdown",
   "id": "cea8ad79-bad1-4aa1-afc1-a4999bed023b",
   "metadata": {},
   "source": [
    "#### Exploratory Data Analysis"
   ]
  },
  {
   "cell_type": "markdown",
   "id": "5da812c5-e59f-4e1d-abd1-456c9cf6dd75",
   "metadata": {},
   "source": [
    "##### 1) Distribution of Movie Ratings\n"
   ]
  },
  {
   "cell_type": "code",
   "execution_count": 34,
   "id": "fe0cf4cb-0ab1-4f9d-b98d-c8e4506c4b14",
   "metadata": {
    "tags": []
   },
   "outputs": [
    {
     "data": {
      "image/png": "[encoded data removed]",
      "text/plain": [
       "<Figure size 864x576 with 1 Axes>"
      ]
     },
     "metadata": {
      "needs_background": "light"
     },
     "output_type": "display_data"
    }
   ],
   "source": [
    "plt.figure(figsize=(12, 8))\n",
    "sns.histplot(vis_df['rating'], bins=30, kde=False)\n",
    "plt.title('Distribution of Movie Ratings')\n",
    "plt.xlabel('Rating')\n",
    "plt.ylabel('Count in Millions')\n",
    "plt.show()"
   ]
  },
  {
   "cell_type": "markdown",
   "id": "67325efd-c5b0-4985-8dfb-0eb468d9ea6d",
   "metadata": {},
   "source": [
    "**Insight**: The histogram shows a preference for higher movie ratings, with 4 being the most common, suggesting users generally rate movies positively.  Lower ratings(1 and 2) are less frequent, which could imply a tendency to watch and rate movies that users expect to like."
   ]
  },
  {
   "cell_type": "markdown",
   "id": "03100efc-45e5-4b3c-a8b9-8d6ef482e68c",
   "metadata": {},
   "source": [
    "##### 2) Number of Movies in Each Genre\n"
   ]
  },
  {
   "cell_type": "code",
   "execution_count": 35,
   "id": "2aa2db42-b31a-475f-b40a-00fc9a0cb6bf",
   "metadata": {},
   "outputs": [
    {
     "data": {
      "image/png": "[encoded data removed]",
      "text/plain": [
       "<Figure size 864x576 with 1 Axes>"
      ]
     },
     "metadata": {
      "needs_background": "light"
     },
     "output_type": "display_data"
    }
   ],
   "source": [
    "genre_counts = vis_df['genres'].str.split(',', expand=True).stack().value_counts()\n",
    "\n",
    "plt.figure(figsize=(12, 8))\n",
    "genre_counts.plot(kind='bar', color='coral')\n",
    "plt.title('Number of Movies in Each Genre')\n",
    "plt.xlabel('Genre')\n",
    "plt.ylabel('Number of Movies')\n",
    "plt.xticks(rotation=45)\n",
    "plt.show()"
   ]
  },
  {
   "cell_type": "markdown",
   "id": "c9c0bdbe-5b83-4ff9-ad7b-6a9665e9d834",
   "metadata": {},
   "source": [
    "**Insight:** \n",
    "Drama is the most prevalent genre, followed by Comedy, suggesting these genres are widely produced and possibly popular among viewers. Less represented genres like Documentary and Horror indicate niche markets or selective production."
   ]
  },
  {
   "cell_type": "markdown",
   "id": "b3e35ed2-cc11-497d-9bf3-1b12ca7a7747",
   "metadata": {},
   "source": [
    "##### 3) Rating Distribution Across Genres\n"
   ]
  },
  {
   "cell_type": "code",
   "execution_count": 36,
   "id": "87caea6f-5812-42fe-ac08-8aaa39a5f55f",
   "metadata": {},
   "outputs": [
    {
     "data": {
      "image/png": "[encoded data removed]",
      "text/plain": [
       "<Figure size 864x432 with 1 Axes>"
      ]
     },
     "metadata": {
      "needs_background": "light"
     },
     "output_type": "display_data"
    }
   ],
   "source": [
    "# Splitting genres into a list for analysis\n",
    "vis_df['genres'] = vis_df['genres'].apply(lambda x: x.split(','))\n",
    "\n",
    "# Preparing data for visualization\n",
    "genre_rating_df = vis_df.explode('genres')\n",
    "plt.figure(figsize=(12, 6))\n",
    "sns.boxplot(x='genres', y='rating', data=genre_rating_df)\n",
    "plt.title('Rating Distribution Across Genres')\n",
    "plt.xlabel('Genre')\n",
    "plt.ylabel('Ratings')\n",
    "plt.xticks(rotation=45)\n",
    "plt.show()"
   ]
  },
  {
   "cell_type": "markdown",
   "id": "be5211bc-f9fc-4fac-bafc-3777c5bca053",
   "metadata": {},
   "source": [
    "**Insight**: The boxplot distribution indicates that median ratings across genres are fairly consistent, typically around 3 to 4, suggesting a general satisfaction with movies across different genres."
   ]
  },
  {
   "cell_type": "markdown",
   "id": "d94e5eb8-20d1-46de-a5fb-0175cdab17dc",
   "metadata": {},
   "source": [
    "##### 4) Average Rating per Genre\n"
   ]
  },
  {
   "cell_type": "code",
   "execution_count": 37,
   "id": "61ab9b62-1bd1-4fbc-97fe-f47b163a2bb9",
   "metadata": {},
   "outputs": [
    {
     "data": {
      "image/png": "[encoded data removed]",
      "text/plain": [
       "<Figure size 1080x432 with 1 Axes>"
      ]
     },
     "metadata": {
      "needs_background": "light"
     },
     "output_type": "display_data"
    }
   ],
   "source": [
    "# Recalculating genre_rating_df as it was modified earlier\n",
    "genre_rating_df = vis_df.explode('genres')\n",
    "avg_genre_rating = genre_rating_df.groupby('genres')['rating'].mean().sort_values(ascending=False)\n",
    "plt.figure(figsize=(15, 6))\n",
    "avg_genre_rating.plot(kind='bar', color='gray')\n",
    "plt.title('Average Rating per Genre')\n",
    "plt.xlabel('Genre')\n",
    "plt.ylabel('Average Rating')\n",
    "plt.xticks(rotation=45)\n",
    "plt.show()"
   ]
  },
  {
   "cell_type": "markdown",
   "id": "5c032795-2d63-4017-a9a0-bf4b8a03310a",
   "metadata": {},
   "source": [
    "**Insight**:\n",
    "The bar chart shows that average ratings for movies across various genres are relatively close, with most genres receiving an average rating above 3.5, indicating a general positive reception across the board."
   ]
  },
  {
   "cell_type": "markdown",
   "id": "16768c25-42b0-44d4-b790-c176ab489c54",
   "metadata": {},
   "source": [
    "##### 5) Top 10 Most Rated Movies\n"
   ]
  },
  {
   "cell_type": "code",
   "execution_count": 38,
   "id": "dfec7f53-7896-44a1-af92-dbfdc6f07c1b",
   "metadata": {},
   "outputs": [
    {
     "data": {
      "image/png": "[encoded data removed]",
      "text/plain": [
       "<Figure size 864x432 with 1 Axes>"
      ]
     },
     "metadata": {
      "needs_background": "light"
     },
     "output_type": "display_data"
    }
   ],
   "source": [
    "# Counting number of ratings for each movie\n",
    "movie_popularity = vis_df['title'].value_counts().head(10)\n",
    "plt.figure(figsize=(12, 6))\n",
    "movie_popularity.plot(kind='bar', color='gold')\n",
    "plt.title('Top 10 Most Rated Movies')\n",
    "plt.xlabel('Movie Title')\n",
    "plt.ylabel('Number of Ratings')\n",
    "plt.xticks(rotation=45)\n",
    "plt.show()"
   ]
  },
  {
   "cell_type": "markdown",
   "id": "3eae9917-2a92-4d62-b37f-6e0973627210",
   "metadata": {},
   "source": [
    "**Insight**: \n",
    "The bar chart highlights \"Pulp Fiction\" as the most rated movie, indicating its popularity and high engagement among viewers within this dataset."
   ]
  },
  {
   "cell_type": "markdown",
   "id": "399c68aa-23a9-4120-affa-aa9ae67639b1",
   "metadata": {},
   "source": [
    "##### 6) Number of Movies Released Each Year\n"
   ]
  },
  {
   "cell_type": "code",
   "execution_count": 39,
   "id": "bccc9b6c-5c8e-4f2b-bed3-b6831458d64b",
   "metadata": {
    "tags": []
   },
   "outputs": [
    {
     "data": {
      "image/png": "[encoded data removed]",
      "text/plain": [
       "<Figure size 2880x1080 with 1 Axes>"
      ]
     },
     "metadata": {
      "needs_background": "light"
     },
     "output_type": "display_data"
    }
   ],
   "source": [
    "year_counts = vis_df['year'].value_counts().sort_index()\n",
    "\n",
    "plt.figure(figsize=(40, 15))\n",
    "sns.lineplot(x=year_counts.index, y=year_counts.values, color='red')\n",
    "plt.title('Number of Movies Released Each Year')\n",
    "plt.xlabel('Year')\n",
    "plt.ylabel('Number of Movies')\n",
    "plt.xticks(rotation=45)\n",
    "plt.show()"
   ]
  },
  {
   "cell_type": "markdown",
   "id": "09466add-e76a-4db8-bd78-ecd85dd71fa1",
   "metadata": {},
   "source": [
    "**Insight**:\n",
    "The line graph depicts a significant peak suggesting a year with a remarkably high number of movies released, followed by a sharp decline, which could indicate a period of reduced movie production or changes in data collection."
   ]
  },
  {
   "cell_type": "markdown",
   "id": "a94e97e7-3f5e-4758-abac-fbfc0894e825",
   "metadata": {},
   "source": [
    "##### 7) Trend of Average Movie Ratings Over Years"
   ]
  },
  {
   "cell_type": "code",
   "execution_count": 40,
   "id": "823a2877-42ae-4dfa-93f7-b103f8c5cdb9",
   "metadata": {},
   "outputs": [
    {
     "data": {
      "image/png": "[encoded data removed]",
      "text/plain": [
       "<Figure size 2880x1080 with 1 Axes>"
      ]
     },
     "metadata": {
      "needs_background": "light"
     },
     "output_type": "display_data"
    }
   ],
   "source": [
    "# Grouping by year and calculating average rating\n",
    "yearly_avg_rating = vis_df.groupby('year')['rating'].mean()\n",
    "plt.figure(figsize=(40, 15))\n",
    "sns.lineplot(x=yearly_avg_rating.index, y=yearly_avg_rating.values, marker='o')\n",
    "plt.title('Trend of Average Movie Ratings Over Years')\n",
    "plt.xlabel('Year')\n",
    "plt.ylabel('Average Rating')\n",
    "plt.xticks(rotation=45)\n",
    "plt.show()"
   ]
  },
  {
   "cell_type": "markdown",
   "id": "77560105-f29e-47ae-826c-4d14675756ea",
   "metadata": {},
   "source": [
    "**Insight**: \n",
    "The line graph illustrates fluctuations in the average movie ratings over the years, indicating variability in movie reception or changes in rating tendencies over time."
   ]
  },
  {
   "cell_type": "markdown",
   "id": "c9867f5c-629e-4249-a7dc-d5f73223d544",
   "metadata": {},
   "source": [
    "##### 8) Distribution of Ratings per Year\n"
   ]
  },
  {
   "cell_type": "code",
   "execution_count": 41,
   "id": "a603c27b-cc80-435c-8bfe-526d8c3febb5",
   "metadata": {},
   "outputs": [
    {
     "data": {
      "image/png": "[encoded data removed]",
      "text/plain": [
       "<Figure size 2880x1080 with 1 Axes>"
      ]
     },
     "metadata": {
      "needs_background": "light"
     },
     "output_type": "display_data"
    }
   ],
   "source": [
    "# Converting 'year' to numeric\n",
    "vis_df['year'] = pd.to_numeric(vis_df['year'], errors='coerce')\n",
    "\n",
    "# Reattempting the Distribution of Ratings per Year visualization\n",
    "plt.figure(figsize=(40, 15))\n",
    "sns.histplot(vis_df, x='year', weights='rating', bins=len(vis_df['year'].unique()), kde=True, color='green')\n",
    "plt.title('Distribution of Ratings per Year')\n",
    "plt.xlabel('Year')\n",
    "plt.ylabel('Total Ratings in million')\n",
    "plt.xticks(rotation=45)\n",
    "plt.show()"
   ]
  },
  {
   "cell_type": "markdown",
   "id": "8088780b-de6c-43ff-8aad-200d76f835df",
   "metadata": {},
   "source": [
    "##### 9) User Rating Activity\n"
   ]
  },
  {
   "cell_type": "code",
   "execution_count": 42,
   "id": "8d06a554-9547-45f6-b1df-40b5a2b34175",
   "metadata": {
    "tags": []
   },
   "outputs": [
    {
     "data": {
      "image/png": "[encoded data removed]",
      "text/plain": [
       "<Figure size 1440x576 with 1 Axes>"
      ]
     },
     "metadata": {
      "needs_background": "light"
     },
     "output_type": "display_data"
    }
   ],
   "source": [
    "# Count the number of ratings per user\n",
    "user_activity = vis_df['userId'].value_counts()\n",
    "\n",
    "plt.figure(figsize=(20, 8))\n",
    "sns.boxplot(x=user_activity, color='green')\n",
    "plt.title('User Rating Activity')\n",
    "plt.xlabel('Number of Ratings per User')\n",
    "plt.show()"
   ]
  },
  {
   "cell_type": "markdown",
   "id": "1843fbc2-d877-44a8-8187-2698cdac0b6a",
   "metadata": {},
   "source": [
    "**Insight**:The boxplot indicates a wide range in the number of ratings per user, with a few users rating a very high number of movies, suggesting the presence of very active users in the dataset."
   ]
  },
  {
   "cell_type": "markdown",
   "id": "233821c0-0330-462b-9442-ae692bd008d6",
   "metadata": {},
   "source": [
    "##### 10) Correlation Heatmap among Key Variables\n"
   ]
  },
  {
   "cell_type": "code",
   "execution_count": 43,
   "id": "f847d1f2-93db-4e7f-9272-ac6f480f4582",
   "metadata": {},
   "outputs": [
    {
     "data": {
      "image/png": "[encoded data removed]",
      "text/plain": [
       "<Figure size 720x576 with 2 Axes>"
      ]
     },
     "metadata": {
      "needs_background": "light"
     },
     "output_type": "display_data"
    }
   ],
   "source": [
    "corr = vis_df[['userId', 'movieId', 'rating', 'imdbId']].corr()\n",
    "plt.figure(figsize=(10, 8))\n",
    "sns.heatmap(corr, annot=True, cmap='coolwarm')\n",
    "plt.title('Correlation Heatmap')\n",
    "plt.show()"
   ]
  },
  {
   "cell_type": "markdown",
   "id": "c7eb4cb1-b050-4436-8aae-1101e2f15474",
   "metadata": {},
   "source": [
    "**Insight**:The heatmap illustrates a strong positive correlation between movie IDs and their corresponding IMDb IDs, while other variables show little to no correlation"
   ]
  },
  {
   "cell_type": "markdown",
   "id": "3f8dba1a-d4fa-41ce-b5f8-e3ecab3cb537",
   "metadata": {},
   "source": [
    "### Models Employed"
   ]
  },
  {
   "cell_type": "markdown",
   "id": "6126abc7-691a-41d6-8081-5d275599f649",
   "metadata": {},
   "source": [
    "## 1) Singular Value Decomposition (SVD) :\n",
    "\n",
    "   SVD is a matrix factorization technique that decomposes a matrix into three other matrices. It is commonly used for recommendation systems to predict user preferences by learning latent features from user-item interactions. "
   ]
  },
  {
   "cell_type": "code",
   "execution_count": 44,
   "id": "01a518b6-7c3e-4aa2-a297-9ee83d0b5f24",
   "metadata": {},
   "outputs": [],
   "source": [
    "# Importing necessary libraries\n",
    "from surprise import Dataset, Reader\n",
    "from surprise import SVD, NMF, CoClustering, SlopeOne\n",
    "from surprise.model_selection import train_test_split\n",
    "from surprise import accuracy\n",
    "\n",
    "# Defining the rating scale and creating the data object\n",
    "reader = Reader(rating_scale=(0.5, 5))\n",
    "data = Dataset.load_from_df(df[['userId', 'movieId', 'rating']], reader)\n",
    "\n",
    "# Splitting the dataset into training and testing sets\n",
    "trainset, testset = train_test_split(data, test_size=0.2, random_state=42)"
   ]
  },
  {
   "cell_type": "code",
   "execution_count": 45,
   "id": "7d7fe831-b468-4d4e-b508-5c670521e2d7",
   "metadata": {},
   "outputs": [
    {
     "name": "stdout",
     "output_type": "stream",
     "text": [
      "Processing epoch 0\n",
      "Processing epoch 1\n",
      "Processing epoch 2\n",
      "Processing epoch 3\n",
      "Processing epoch 4\n",
      "Processing epoch 5\n",
      "Processing epoch 6\n",
      "Processing epoch 7\n",
      "Processing epoch 8\n",
      "Processing epoch 9\n",
      "Processing epoch 10\n",
      "Processing epoch 11\n",
      "Processing epoch 12\n",
      "Processing epoch 13\n",
      "Processing epoch 14\n",
      "Processing epoch 15\n",
      "Processing epoch 16\n",
      "Processing epoch 17\n",
      "Processing epoch 18\n",
      "Processing epoch 19\n"
     ]
    },
    {
     "data": {
      "text/plain": [
       "<surprise.prediction_algorithms.matrix_factorization.SVD at 0x240ae41adf0>"
      ]
     },
     "execution_count": 45,
     "metadata": {},
     "output_type": "execute_result"
    }
   ],
   "source": [
    "# Initializing and training the SVD model with hyperparameters\n",
    "modelSVD = SVD(n_factors=50, n_epochs=20, lr_all=0.005, reg_all=0.01, biased=True, verbose=True)\n",
    "\n",
    "modelSVD.fit(trainset)"
   ]
  },
  {
   "cell_type": "code",
   "execution_count": 46,
   "id": "9942fb7e-402d-45f4-a4ed-a3083e66902b",
   "metadata": {},
   "outputs": [],
   "source": [
    "# Make predictions on the test set\n",
    "predictionsSVD = modelSVD.test(testset)"
   ]
  },
  {
   "cell_type": "code",
   "execution_count": 47,
   "id": "50280d9c-9135-4eb5-8853-632ef9e5f219",
   "metadata": {},
   "outputs": [
    {
     "name": "stdout",
     "output_type": "stream",
     "text": [
      "RMSE: 0.7637\n"
     ]
    }
   ],
   "source": [
    "# Calculate and print RMSE (Root Mean Squared Error) to evaluate the model\n",
    "rmseSVD = accuracy.rmse(predictionsSVD)"
   ]
  },
  {
   "cell_type": "markdown",
   "id": "b5f5b642-e07a-4de1-a9dc-7aa96a8949c3",
   "metadata": {},
   "source": [
    "##### Item Based Recommendation"
   ]
  },
  {
   "cell_type": "code",
   "execution_count": 48,
   "id": "de5684f6-708b-4945-b18f-6ce5cee37af9",
   "metadata": {},
   "outputs": [],
   "source": [
    "# # Specify the movie_id you like and want recommendations for\n",
    "# movie_id = 123\n",
    "\n",
    "# # Get the list of all unique movie IDs\n",
    "# unique_movie_ids = df['movieId'].unique()\n",
    "\n",
    "# # Initialize a list to store movie recommendations\n",
    "# movie_recommendations = []\n",
    "\n",
    "# # Iterate over each unique movie ID\n",
    "# for other_movie_id in unique_movie_ids:\n",
    "#     # Skip the movie you already like (movie_id)\n",
    "#     if other_movie_id == movie_id:\n",
    "#         continue\n",
    "    \n",
    "#     # Predict how much you might like other_movie_id based on your liking for movie_id\n",
    "#     predicted_rating = model.predict(movie_id, other_movie_id).est\n",
    "#     movie_recommendations.append((other_movie_id, predicted_rating))\n",
    "\n",
    "# # Sort the recommendations by predicted rating in descending order\n",
    "# movie_recommendations.sort(key=lambda x: x[1], reverse=True)\n",
    "\n",
    "# # Get the top N recommended movie IDs\n",
    "# top_n = 10\n",
    "# top_recommendations = movie_recommendations[:top_n]\n",
    "\n",
    "# # Get the name and genre of the movie you like (movie_id)\n",
    "# movie_name_123 = df[df['movieId'] == movie_id]['title'].values[0]\n",
    "\n",
    "# # Print the top N recommended movie titles and genres along with the movie you like\n",
    "# print(f\"Top {top_n} movie recommendations for '{movie_name_123}'\")\n",
    "# for recommended_movie_id, predicted_rating in top_recommendations:\n",
    "#     movie_info = df[df['movieId'] == recommended_movie_id][['title', 'genres']].iloc[0]\n",
    "#     genres = movie_info['genres']\n",
    "#     # Join genres if they are in a list\n",
    "#     if isinstance(genres, list):\n",
    "#         genres = ', '.join(genres)\n",
    "#     print(f\"Title: {movie_info['title']}, Genre: {genres}\")"
   ]
  },
  {
   "cell_type": "markdown",
   "id": "b6d66b77-5297-41ac-9aff-ea84edb6bad8",
   "metadata": {},
   "source": [
    "##### Generating User-Based Recommendations with SVD\n"
   ]
  },
  {
   "cell_type": "markdown",
   "id": "6256a59c-c1f0-47be-9315-1df085351b4b",
   "metadata": {},
   "source": [
    " The function get_recommendations_user_SVD predicts ratings for movies not yet rated by a specific user and returns the top recommendations. This personalizes the user experience by suggesting content that aligns with their preferences."
   ]
  },
  {
   "cell_type": "code",
   "execution_count": 49,
   "id": "2d292c46-e6d8-4b7b-a121-fa3359a7e604",
   "metadata": {},
   "outputs": [],
   "source": [
    "#Function to Generate Recommendations:\n",
    "def get_recommendations_user_SVD(user_id, model, all_movies_df, user_movie_ratings_df, top_n=10):\n",
    "    # Get a list of all movie IDs\n",
    "    all_movie_ids = set(all_movies_df['movieId'].unique())\n",
    "    \n",
    "    # Get a list of movies that the user has already rated\n",
    "    rated_movies = set(user_movie_ratings_df[user_movie_ratings_df['userId'] == user_id]['movieId'].unique())\n",
    "    \n",
    "    # Predict ratings for all movies that the user hasn't rated\n",
    "    predictions = [model.predict(user_id, movie_id) for movie_id in all_movie_ids if movie_id not in rated_movies]\n",
    "    \n",
    "    # Retrieve the top N movies with the highest estimated ratings\n",
    "    predictions.sort(key=lambda x: x.est, reverse=True)\n",
    "    top_recommendations = predictions[:top_n]\n",
    "    \n",
    "    # Prepare DataFrame for top recommended movies\n",
    "    recommended_movies_info = []\n",
    "    for pred in top_recommendations:\n",
    "        movie_id = pred.iid\n",
    "        movie_details = all_movies_df[all_movies_df['movieId'] == movie_id]\n",
    "        title = movie_details['title'].values[0]\n",
    "        year = movie_details['year'].values[0]\n",
    "        genres = movie_details['genres'].values[0]\n",
    "        imdbId = movie_details['imdbId'].values[0]\n",
    "        predicted_rating = pred.est\n",
    "        recommended_movies_info.append([movie_id, title, year, genres, imdbId, predicted_rating])\n",
    "    return pd.DataFrame(recommended_movies_info, columns=['Movie ID', 'Title', 'Year', 'Genres', 'IMDb ID', 'Predicted Rating'])"
   ]
  },
  {
   "cell_type": "code",
   "execution_count": 50,
   "id": "334888f8-f323-44be-a526-d4d7d51642af",
   "metadata": {},
   "outputs": [
    {
     "data": {
      "text/html": [
       "<div>\n",
       "<style scoped>\n",
       "    .dataframe tbody tr th:only-of-type {\n",
       "        vertical-align: middle;\n",
       "    }\n",
       "\n",
       "    .dataframe tbody tr th {\n",
       "        vertical-align: top;\n",
       "    }\n",
       "\n",
       "    .dataframe thead th {\n",
       "        text-align: right;\n",
       "    }\n",
       "</style>\n",
       "<table border=\"1\" class=\"dataframe\">\n",
       "  <thead>\n",
       "    <tr style=\"text-align: right;\">\n",
       "      <th></th>\n",
       "      <th>Movie ID</th>\n",
       "      <th>Title</th>\n",
       "      <th>Year</th>\n",
       "      <th>Genres</th>\n",
       "      <th>IMDb ID</th>\n",
       "      <th>Predicted Rating</th>\n",
       "    </tr>\n",
       "  </thead>\n",
       "  <tbody>\n",
       "    <tr>\n",
       "      <th>0</th>\n",
       "      <td>171011</td>\n",
       "      <td>Planet Earth II</td>\n",
       "      <td>2016</td>\n",
       "      <td>Documentary</td>\n",
       "      <td>5491994</td>\n",
       "      <td>4.505091</td>\n",
       "    </tr>\n",
       "    <tr>\n",
       "      <th>1</th>\n",
       "      <td>608</td>\n",
       "      <td>Fargo</td>\n",
       "      <td>1996</td>\n",
       "      <td>Comedy,Crime,Drama,Thriller</td>\n",
       "      <td>116282</td>\n",
       "      <td>4.492862</td>\n",
       "    </tr>\n",
       "    <tr>\n",
       "      <th>2</th>\n",
       "      <td>2360</td>\n",
       "      <td>Celebration, The (Festen)</td>\n",
       "      <td>1998</td>\n",
       "      <td>Drama</td>\n",
       "      <td>154420</td>\n",
       "      <td>4.464054</td>\n",
       "    </tr>\n",
       "    <tr>\n",
       "      <th>3</th>\n",
       "      <td>50</td>\n",
       "      <td>Usual Suspects, The</td>\n",
       "      <td>1995</td>\n",
       "      <td>Crime,Mystery,Thriller</td>\n",
       "      <td>114814</td>\n",
       "      <td>4.456375</td>\n",
       "    </tr>\n",
       "    <tr>\n",
       "      <th>4</th>\n",
       "      <td>202439</td>\n",
       "      <td>Parasite</td>\n",
       "      <td>2019</td>\n",
       "      <td>Comedy,Drama</td>\n",
       "      <td>6751668</td>\n",
       "      <td>4.435477</td>\n",
       "    </tr>\n",
       "    <tr>\n",
       "      <th>5</th>\n",
       "      <td>182723</td>\n",
       "      <td>Cosmos: A Spacetime Odissey</td>\n",
       "      <td>NaN</td>\n",
       "      <td>(no genres listed)</td>\n",
       "      <td>2395695</td>\n",
       "      <td>4.405659</td>\n",
       "    </tr>\n",
       "    <tr>\n",
       "      <th>6</th>\n",
       "      <td>858</td>\n",
       "      <td>Godfather, The</td>\n",
       "      <td>1972</td>\n",
       "      <td>Crime,Drama</td>\n",
       "      <td>68646</td>\n",
       "      <td>4.398595</td>\n",
       "    </tr>\n",
       "    <tr>\n",
       "      <th>7</th>\n",
       "      <td>8484</td>\n",
       "      <td>Human Condition I, The (Ningen no joken I)</td>\n",
       "      <td>1959</td>\n",
       "      <td>Drama,War</td>\n",
       "      <td>53114</td>\n",
       "      <td>4.383309</td>\n",
       "    </tr>\n",
       "    <tr>\n",
       "      <th>8</th>\n",
       "      <td>2997</td>\n",
       "      <td>Being John Malkovich</td>\n",
       "      <td>1999</td>\n",
       "      <td>Comedy,Drama,Fantasy</td>\n",
       "      <td>120601</td>\n",
       "      <td>4.378099</td>\n",
       "    </tr>\n",
       "    <tr>\n",
       "      <th>9</th>\n",
       "      <td>142115</td>\n",
       "      <td>The Blue Planet</td>\n",
       "      <td>2001</td>\n",
       "      <td>Documentary</td>\n",
       "      <td>296310</td>\n",
       "      <td>4.366840</td>\n",
       "    </tr>\n",
       "  </tbody>\n",
       "</table>\n",
       "</div>"
      ],
      "text/plain": [
       "   Movie ID                                       Title  Year  \\\n",
       "0    171011                             Planet Earth II  2016   \n",
       "1       608                                       Fargo  1996   \n",
       "2      2360                   Celebration, The (Festen)  1998   \n",
       "3        50                         Usual Suspects, The  1995   \n",
       "4    202439                                    Parasite  2019   \n",
       "5    182723                 Cosmos: A Spacetime Odissey   NaN   \n",
       "6       858                              Godfather, The  1972   \n",
       "7      8484  Human Condition I, The (Ningen no joken I)  1959   \n",
       "8      2997                        Being John Malkovich  1999   \n",
       "9    142115                             The Blue Planet  2001   \n",
       "\n",
       "                        Genres  IMDb ID  Predicted Rating  \n",
       "0                  Documentary  5491994          4.505091  \n",
       "1  Comedy,Crime,Drama,Thriller   116282          4.492862  \n",
       "2                        Drama   154420          4.464054  \n",
       "3       Crime,Mystery,Thriller   114814          4.456375  \n",
       "4                 Comedy,Drama  6751668          4.435477  \n",
       "5           (no genres listed)  2395695          4.405659  \n",
       "6                  Crime,Drama    68646          4.398595  \n",
       "7                    Drama,War    53114          4.383309  \n",
       "8         Comedy,Drama,Fantasy   120601          4.378099  \n",
       "9                  Documentary   296310          4.366840  "
      ]
     },
     "execution_count": 50,
     "metadata": {},
     "output_type": "execute_result"
    }
   ],
   "source": [
    "# Generating recommendations for a specific user\n",
    "user_id = 1\n",
    "recommended_movies_1 = get_recommendations_user_SVD(user_id, modelSVD, df, df, top_n=10)\n",
    "recommended_movies_1"
   ]
  },
  {
   "cell_type": "markdown",
   "id": "8bf1cfe1-662a-40d0-9fc9-2334d70c515a",
   "metadata": {},
   "source": [
    "Verifying if the user really hasn't watched the recommended movies."
   ]
  },
  {
   "cell_type": "code",
   "execution_count": 51,
   "id": "90934c28-9136-4011-b87a-8d6aa9895b5d",
   "metadata": {},
   "outputs": [
    {
     "data": {
      "text/html": [
       "<div>\n",
       "<style scoped>\n",
       "    .dataframe tbody tr th:only-of-type {\n",
       "        vertical-align: middle;\n",
       "    }\n",
       "\n",
       "    .dataframe tbody tr th {\n",
       "        vertical-align: top;\n",
       "    }\n",
       "\n",
       "    .dataframe thead th {\n",
       "        text-align: right;\n",
       "    }\n",
       "</style>\n",
       "<table border=\"1\" class=\"dataframe\">\n",
       "  <thead>\n",
       "    <tr style=\"text-align: right;\">\n",
       "      <th></th>\n",
       "      <th>Movie ID</th>\n",
       "      <th>Title</th>\n",
       "      <th>Year</th>\n",
       "      <th>Genres</th>\n",
       "      <th>IMDb ID</th>\n",
       "      <th>Predicted Rating</th>\n",
       "    </tr>\n",
       "  </thead>\n",
       "  <tbody>\n",
       "    <tr>\n",
       "      <th>0</th>\n",
       "      <td>171011</td>\n",
       "      <td>Planet Earth II</td>\n",
       "      <td>2016</td>\n",
       "      <td>Documentary</td>\n",
       "      <td>5491994</td>\n",
       "      <td>4.505091</td>\n",
       "    </tr>\n",
       "    <tr>\n",
       "      <th>1</th>\n",
       "      <td>608</td>\n",
       "      <td>Fargo</td>\n",
       "      <td>1996</td>\n",
       "      <td>Comedy,Crime,Drama,Thriller</td>\n",
       "      <td>116282</td>\n",
       "      <td>4.492862</td>\n",
       "    </tr>\n",
       "    <tr>\n",
       "      <th>2</th>\n",
       "      <td>2360</td>\n",
       "      <td>Celebration, The (Festen)</td>\n",
       "      <td>1998</td>\n",
       "      <td>Drama</td>\n",
       "      <td>154420</td>\n",
       "      <td>4.464054</td>\n",
       "    </tr>\n",
       "    <tr>\n",
       "      <th>3</th>\n",
       "      <td>50</td>\n",
       "      <td>Usual Suspects, The</td>\n",
       "      <td>1995</td>\n",
       "      <td>Crime,Mystery,Thriller</td>\n",
       "      <td>114814</td>\n",
       "      <td>4.456375</td>\n",
       "    </tr>\n",
       "    <tr>\n",
       "      <th>4</th>\n",
       "      <td>202439</td>\n",
       "      <td>Parasite</td>\n",
       "      <td>2019</td>\n",
       "      <td>Comedy,Drama</td>\n",
       "      <td>6751668</td>\n",
       "      <td>4.435477</td>\n",
       "    </tr>\n",
       "    <tr>\n",
       "      <th>5</th>\n",
       "      <td>182723</td>\n",
       "      <td>Cosmos: A Spacetime Odissey</td>\n",
       "      <td>NaN</td>\n",
       "      <td>(no genres listed)</td>\n",
       "      <td>2395695</td>\n",
       "      <td>4.405659</td>\n",
       "    </tr>\n",
       "    <tr>\n",
       "      <th>6</th>\n",
       "      <td>858</td>\n",
       "      <td>Godfather, The</td>\n",
       "      <td>1972</td>\n",
       "      <td>Crime,Drama</td>\n",
       "      <td>68646</td>\n",
       "      <td>4.398595</td>\n",
       "    </tr>\n",
       "    <tr>\n",
       "      <th>7</th>\n",
       "      <td>8484</td>\n",
       "      <td>Human Condition I, The (Ningen no joken I)</td>\n",
       "      <td>1959</td>\n",
       "      <td>Drama,War</td>\n",
       "      <td>53114</td>\n",
       "      <td>4.383309</td>\n",
       "    </tr>\n",
       "    <tr>\n",
       "      <th>8</th>\n",
       "      <td>2997</td>\n",
       "      <td>Being John Malkovich</td>\n",
       "      <td>1999</td>\n",
       "      <td>Comedy,Drama,Fantasy</td>\n",
       "      <td>120601</td>\n",
       "      <td>4.378099</td>\n",
       "    </tr>\n",
       "    <tr>\n",
       "      <th>9</th>\n",
       "      <td>142115</td>\n",
       "      <td>The Blue Planet</td>\n",
       "      <td>2001</td>\n",
       "      <td>Documentary</td>\n",
       "      <td>296310</td>\n",
       "      <td>4.366840</td>\n",
       "    </tr>\n",
       "  </tbody>\n",
       "</table>\n",
       "</div>"
      ],
      "text/plain": [
       "   Movie ID                                       Title  Year  \\\n",
       "0    171011                             Planet Earth II  2016   \n",
       "1       608                                       Fargo  1996   \n",
       "2      2360                   Celebration, The (Festen)  1998   \n",
       "3        50                         Usual Suspects, The  1995   \n",
       "4    202439                                    Parasite  2019   \n",
       "5    182723                 Cosmos: A Spacetime Odissey   NaN   \n",
       "6       858                              Godfather, The  1972   \n",
       "7      8484  Human Condition I, The (Ningen no joken I)  1959   \n",
       "8      2997                        Being John Malkovich  1999   \n",
       "9    142115                             The Blue Planet  2001   \n",
       "\n",
       "                        Genres  IMDb ID  Predicted Rating  \n",
       "0                  Documentary  5491994          4.505091  \n",
       "1  Comedy,Crime,Drama,Thriller   116282          4.492862  \n",
       "2                        Drama   154420          4.464054  \n",
       "3       Crime,Mystery,Thriller   114814          4.456375  \n",
       "4                 Comedy,Drama  6751668          4.435477  \n",
       "5           (no genres listed)  2395695          4.405659  \n",
       "6                  Crime,Drama    68646          4.398595  \n",
       "7                    Drama,War    53114          4.383309  \n",
       "8         Comedy,Drama,Fantasy   120601          4.378099  \n",
       "9                  Documentary   296310          4.366840  "
      ]
     },
     "execution_count": 51,
     "metadata": {},
     "output_type": "execute_result"
    }
   ],
   "source": [
    "# Get the list of movies already rated by the user\n",
    "rated_movies_by_user = set(df[df['userId'] == user_id]['movieId'].unique())\n",
    "\n",
    "# Get the list of recommended movie IDs\n",
    "recommended_movie_ids = set(recommended_movies_1['Movie ID'])\n",
    "\n",
    "# Check if any recommended movie has already been rated by the user\n",
    "already_watched = recommended_movie_ids.intersection(rated_movies_by_user)\n",
    "\n",
    "# Filter out already watched movies from the recommendations\n",
    "final_recommendations = recommended_movies_1[~recommended_movies_1['Movie ID'].isin(already_watched)]\n",
    "\n",
    "# Display the final recommendations\n",
    "final_recommendations"
   ]
  },
  {
   "cell_type": "markdown",
   "id": "65c91b92-8316-46e7-932b-3ec886da4fb5",
   "metadata": {},
   "source": [
    "## 2) Non-negative Matrix Factorization (NMF)\n",
    "NMF is another matrix factorization method where all three matrices have non-negative values. It's useful for interpretability since it results in a parts-based representation of the data. "
   ]
  },
  {
   "cell_type": "markdown",
   "id": "774b711b-e7b2-4e58-b1fa-886727924f3e",
   "metadata": {},
   "source": [
    "#### Creating the NMF Model:"
   ]
  },
  {
   "cell_type": "code",
   "execution_count": 52,
   "id": "8c908855-dbf9-40a3-b631-05af18f21b02",
   "metadata": {},
   "outputs": [
    {
     "name": "stdout",
     "output_type": "stream",
     "text": [
      "Processing epoch 0\n",
      "Processing epoch 1\n",
      "Processing epoch 2\n",
      "Processing epoch 3\n",
      "Processing epoch 4\n",
      "Processing epoch 5\n",
      "Processing epoch 6\n",
      "Processing epoch 7\n",
      "Processing epoch 8\n",
      "Processing epoch 9\n",
      "Processing epoch 10\n",
      "Processing epoch 11\n",
      "Processing epoch 12\n",
      "Processing epoch 13\n",
      "Processing epoch 14\n",
      "Processing epoch 15\n",
      "Processing epoch 16\n",
      "Processing epoch 17\n",
      "Processing epoch 18\n",
      "Processing epoch 19\n"
     ]
    },
    {
     "data": {
      "text/plain": [
       "<surprise.prediction_algorithms.matrix_factorization.NMF at 0x240b0d9eeb0>"
      ]
     },
     "execution_count": 52,
     "metadata": {},
     "output_type": "execute_result"
    }
   ],
   "source": [
    "# Initializing and training the NMF model\n",
    "nmf_model = NMF(n_factors=30, n_epochs=20, biased=True, verbose=True)\n",
    "nmf_model.fit(trainset)"
   ]
  },
  {
   "cell_type": "code",
   "execution_count": 53,
   "id": "8422bf33-c7ee-4991-b73c-7e551cfd80c1",
   "metadata": {},
   "outputs": [
    {
     "name": "stdout",
     "output_type": "stream",
     "text": [
      "RMSE: 1.1196\n"
     ]
    }
   ],
   "source": [
    "# Testing the model to predict on the test set and calculating RMSE\n",
    "predictions_nmf = nmf_model.test(testset)\n",
    "rmse_nmf = accuracy.rmse(predictions_nmf)"
   ]
  },
  {
   "cell_type": "markdown",
   "id": "7e542c16-0aa8-4d1d-91d2-7e7da73db2fb",
   "metadata": {},
   "source": [
    "##### Generating User-Based Recommendations with NMF"
   ]
  },
  {
   "cell_type": "code",
   "execution_count": 54,
   "id": "c816080f-5c7f-4b15-87eb-fb0dae1db39d",
   "metadata": {},
   "outputs": [],
   "source": [
    "def get_recommendations_user_NMF(user_id, model, all_movies_df, user_movie_ratings_df, top_n=10):\n",
    "    # Get a list of all movie IDs\n",
    "    all_movie_ids = set(all_movies_df['movieId'].unique())\n",
    "\n",
    "    # Get a list of movies that the user has already rated\n",
    "    rated_movies = set(user_movie_ratings_df[user_movie_ratings_df['userId'] == user_id]['movieId'].unique())\n",
    "    print(\"Rated movies count:\", len(rated_movies))  # Debugging print\n",
    "\n",
    "    # Predict ratings for all movies that the user hasn't rated\n",
    "    unrated_movies = all_movie_ids - rated_movies\n",
    "    print(\"Unrated movies count:\", len(unrated_movies))  # Debugging print\n",
    "\n",
    "    predictions = [model.predict(user_id, movie_id) for movie_id in unrated_movies]\n",
    "\n",
    "    # Sort the predictions by estimated rating in descending order and retrieve the top N\n",
    "    predictions.sort(key=lambda x: x.est, reverse=True)\n",
    "    top_recommendations = predictions[:top_n]\n",
    "\n",
    "    # Create a DataFrame for the top recommended movies\n",
    "    recommended_movies_info = []\n",
    "    for pred in top_recommendations:\n",
    "        movie_id = pred.iid\n",
    "        movie_details = all_movies_df[all_movies_df['movieId'] == movie_id]\n",
    "        title = movie_details['title'].values[0]\n",
    "        year = movie_details['year'].values[0]\n",
    "        genres = movie_details['genres'].values[0]\n",
    "        imdbId = movie_details['imdbId'].values[0]\n",
    "        predicted_rating = pred.est\n",
    "        recommended_movies_info.append([movie_id, title, year, genres, imdbId, predicted_rating])\n",
    "\n",
    "    return pd.DataFrame(recommended_movies_info, columns=['Movie ID', 'Title', 'Year', 'Genres', 'IMDb ID', 'Predicted Rating'])"
   ]
  },
  {
   "cell_type": "code",
   "execution_count": 55,
   "id": "4a1e0ca5-fdc9-4b4b-8a82-7cface0b9671",
   "metadata": {},
   "outputs": [
    {
     "name": "stdout",
     "output_type": "stream",
     "text": [
      "Rated movies count: 70\n",
      "Unrated movies count: 52648\n"
     ]
    },
    {
     "data": {
      "text/html": [
       "<div>\n",
       "<style scoped>\n",
       "    .dataframe tbody tr th:only-of-type {\n",
       "        vertical-align: middle;\n",
       "    }\n",
       "\n",
       "    .dataframe tbody tr th {\n",
       "        vertical-align: top;\n",
       "    }\n",
       "\n",
       "    .dataframe thead th {\n",
       "        text-align: right;\n",
       "    }\n",
       "</style>\n",
       "<table border=\"1\" class=\"dataframe\">\n",
       "  <thead>\n",
       "    <tr style=\"text-align: right;\">\n",
       "      <th></th>\n",
       "      <th>Movie ID</th>\n",
       "      <th>Title</th>\n",
       "      <th>Year</th>\n",
       "      <th>Genres</th>\n",
       "      <th>IMDb ID</th>\n",
       "      <th>Predicted Rating</th>\n",
       "    </tr>\n",
       "  </thead>\n",
       "  <tbody>\n",
       "    <tr>\n",
       "      <th>0</th>\n",
       "      <td>51</td>\n",
       "      <td>Guardian Angel</td>\n",
       "      <td>1994</td>\n",
       "      <td>Action,Drama,Thriller</td>\n",
       "      <td>109950</td>\n",
       "      <td>5</td>\n",
       "    </tr>\n",
       "    <tr>\n",
       "      <th>1</th>\n",
       "      <td>136</td>\n",
       "      <td>From the Journals of Jean Seberg</td>\n",
       "      <td>1995</td>\n",
       "      <td>Documentary</td>\n",
       "      <td>113125</td>\n",
       "      <td>5</td>\n",
       "    </tr>\n",
       "    <tr>\n",
       "      <th>2</th>\n",
       "      <td>192</td>\n",
       "      <td>The Show</td>\n",
       "      <td>1995</td>\n",
       "      <td>Documentary</td>\n",
       "      <td>114435</td>\n",
       "      <td>5</td>\n",
       "    </tr>\n",
       "    <tr>\n",
       "      <th>3</th>\n",
       "      <td>201</td>\n",
       "      <td>Three Wishes</td>\n",
       "      <td>1995</td>\n",
       "      <td>Drama,Fantasy</td>\n",
       "      <td>114663</td>\n",
       "      <td>5</td>\n",
       "    </tr>\n",
       "    <tr>\n",
       "      <th>4</th>\n",
       "      <td>206</td>\n",
       "      <td>Unzipped</td>\n",
       "      <td>1995</td>\n",
       "      <td>Documentary</td>\n",
       "      <td>114805</td>\n",
       "      <td>5</td>\n",
       "    </tr>\n",
       "    <tr>\n",
       "      <th>5</th>\n",
       "      <td>444</td>\n",
       "      <td>Even Cowgirls Get the Blues</td>\n",
       "      <td>1993</td>\n",
       "      <td>Comedy,Romance</td>\n",
       "      <td>106834</td>\n",
       "      <td>5</td>\n",
       "    </tr>\n",
       "    <tr>\n",
       "      <th>6</th>\n",
       "      <td>574</td>\n",
       "      <td>Spanking the Monkey</td>\n",
       "      <td>1994</td>\n",
       "      <td>Comedy,Drama</td>\n",
       "      <td>111252</td>\n",
       "      <td>5</td>\n",
       "    </tr>\n",
       "    <tr>\n",
       "      <th>7</th>\n",
       "      <td>625</td>\n",
       "      <td>Asfour Stah</td>\n",
       "      <td>1990</td>\n",
       "      <td>Drama</td>\n",
       "      <td>90665</td>\n",
       "      <td>5</td>\n",
       "    </tr>\n",
       "    <tr>\n",
       "      <th>8</th>\n",
       "      <td>701</td>\n",
       "      <td>Daens</td>\n",
       "      <td>1992</td>\n",
       "      <td>Drama</td>\n",
       "      <td>104046</td>\n",
       "      <td>5</td>\n",
       "    </tr>\n",
       "    <tr>\n",
       "      <th>9</th>\n",
       "      <td>723</td>\n",
       "      <td>Two Friends</td>\n",
       "      <td>1986</td>\n",
       "      <td>Drama</td>\n",
       "      <td>92123</td>\n",
       "      <td>5</td>\n",
       "    </tr>\n",
       "  </tbody>\n",
       "</table>\n",
       "</div>"
      ],
      "text/plain": [
       "   Movie ID                             Title  Year                 Genres  \\\n",
       "0        51                    Guardian Angel  1994  Action,Drama,Thriller   \n",
       "1       136  From the Journals of Jean Seberg  1995            Documentary   \n",
       "2       192                          The Show  1995            Documentary   \n",
       "3       201                      Three Wishes  1995          Drama,Fantasy   \n",
       "4       206                          Unzipped  1995            Documentary   \n",
       "5       444       Even Cowgirls Get the Blues  1993         Comedy,Romance   \n",
       "6       574               Spanking the Monkey  1994           Comedy,Drama   \n",
       "7       625                       Asfour Stah  1990                  Drama   \n",
       "8       701                             Daens  1992                  Drama   \n",
       "9       723                       Two Friends  1986                  Drama   \n",
       "\n",
       "   IMDb ID  Predicted Rating  \n",
       "0   109950                 5  \n",
       "1   113125                 5  \n",
       "2   114435                 5  \n",
       "3   114663                 5  \n",
       "4   114805                 5  \n",
       "5   106834                 5  \n",
       "6   111252                 5  \n",
       "7    90665                 5  \n",
       "8   104046                 5  \n",
       "9    92123                 5  "
      ]
     },
     "execution_count": 55,
     "metadata": {},
     "output_type": "execute_result"
    }
   ],
   "source": [
    "# Generating recommendations for a specific user\n",
    "user_id = 1\n",
    "recommended_movies_nmf = get_recommendations_user_NMF(user_id, nmf_model, df, df, top_n=10)\n",
    "recommended_movies_nmf"
   ]
  },
  {
   "cell_type": "markdown",
   "id": "0b71fbd3-dc83-4158-a674-0ec71e2e08a6",
   "metadata": {},
   "source": [
    "## 3) CoClustering\n",
    "Co-Clustering simultaneously clusters rows and columns of the matrix to discover checkboard-like structures. It's beneficial for datasets with multiple types of relationships."
   ]
  },
  {
   "cell_type": "markdown",
   "id": "12d3852c-b066-4ced-9b10-6f3450c5818b",
   "metadata": {},
   "source": [
    "##### Creating the Co-Clustering Model:"
   ]
  },
  {
   "cell_type": "code",
   "execution_count": 56,
   "id": "702d707a-2009-4917-a11d-5175233c528b",
   "metadata": {},
   "outputs": [],
   "source": [
    "# Initializing and training the CoClustering model\n",
    "co_clustering_model = CoClustering(n_cltr_u=2, n_cltr_i=2, n_epochs=20, random_state=42, verbose=1)"
   ]
  },
  {
   "cell_type": "code",
   "execution_count": 57,
   "id": "9df6db1c-e96c-41ad-a584-1c9757204bd7",
   "metadata": {},
   "outputs": [
    {
     "name": "stdout",
     "output_type": "stream",
     "text": [
      "Processing epoch 0\n",
      "Processing epoch 1\n",
      "Processing epoch 2\n",
      "Processing epoch 3\n",
      "Processing epoch 4\n",
      "Processing epoch 5\n",
      "Processing epoch 6\n",
      "Processing epoch 7\n",
      "Processing epoch 8\n",
      "Processing epoch 9\n",
      "Processing epoch 10\n",
      "Processing epoch 11\n",
      "Processing epoch 12\n",
      "Processing epoch 13\n",
      "Processing epoch 14\n",
      "Processing epoch 15\n",
      "Processing epoch 16\n",
      "Processing epoch 17\n",
      "Processing epoch 18\n",
      "Processing epoch 19\n"
     ]
    },
    {
     "data": {
      "text/plain": [
       "<surprise.prediction_algorithms.co_clustering.CoClustering at 0x240b02fbc10>"
      ]
     },
     "execution_count": 57,
     "metadata": {},
     "output_type": "execute_result"
    }
   ],
   "source": [
    "co_clustering_model.fit(trainset)"
   ]
  },
  {
   "cell_type": "code",
   "execution_count": 58,
   "id": "67826be7-6538-4b5b-aea2-77aca1ae3d68",
   "metadata": {},
   "outputs": [
    {
     "name": "stdout",
     "output_type": "stream",
     "text": [
      "RMSE: 0.8721\n"
     ]
    }
   ],
   "source": [
    "# Testing the model to predict on the test set and calculating RMSE\n",
    "predictions_coc = co_clustering_model.test(testset)\n",
    "rmse_coc = accuracy.rmse(predictions_coc)"
   ]
  },
  {
   "cell_type": "markdown",
   "id": "851edc2d-d411-4c2d-b45a-4fd4c9a6065f",
   "metadata": {},
   "source": [
    "##### Generating User-Based Recommendations with Co-Clustering\n"
   ]
  },
  {
   "cell_type": "code",
   "execution_count": 59,
   "id": "9ac05b76-7f48-435e-ad2a-b02433f924e0",
   "metadata": {},
   "outputs": [],
   "source": [
    "def get_recommendations_user_CoClustering(user_id, model, all_movies_df, user_movie_ratings_df, top_n=10):\n",
    "    # Get a list of all movie IDs\n",
    "    all_movie_ids = set(all_movies_df['movieId'].unique())\n",
    "\n",
    "    # Get a list of movies that the user has already rated\n",
    "    rated_movies = set(user_movie_ratings_df[user_movie_ratings_df['userId'] == user_id]['movieId'].unique())\n",
    "\n",
    "    # Predict ratings for all movies that the user hasn't rated\n",
    "    predictions = [model.predict(user_id, movie_id) for movie_id in all_movie_ids if movie_id not in rated_movies]\n",
    "\n",
    "    # Sort the predictions by estimated rating in descending order and retrieve the top N\n",
    "    predictions.sort(key=lambda x: x.est, reverse=True)\n",
    "    top_recommendations = predictions[:top_n]\n",
    "\n",
    "    # Create a DataFrame for the top recommended movies\n",
    "    recommended_movies_info = []\n",
    "    for pred in top_recommendations:\n",
    "        movie_id = pred.iid\n",
    "        movie_details = all_movies_df[all_movies_df['movieId'] == movie_id]\n",
    "        title = movie_details['title'].values[0]\n",
    "        year = movie_details['year'].values[0] if 'year' in movie_details.columns else \"N/A\"\n",
    "        genres = movie_details['genres'].values[0] if 'genres' in movie_details.columns else \"N/A\"\n",
    "        imdbId = movie_details['imdbId'].values[0] if 'imdbId' in movie_details.columns else \"N/A\"\n",
    "        predicted_rating = pred.est\n",
    "        recommended_movies_info.append([movie_id, title, year, genres, imdbId, predicted_rating])\n",
    "\n",
    "    return pd.DataFrame(recommended_movies_info, columns=['Movie ID', 'Title', 'Year', 'Genres', 'IMDb ID', 'Predicted Rating'])"
   ]
  },
  {
   "cell_type": "code",
   "execution_count": 60,
   "id": "6955ff7c-a299-4840-aacf-6fe1d81ca5e5",
   "metadata": {},
   "outputs": [
    {
     "data": {
      "text/html": [
       "<div>\n",
       "<style scoped>\n",
       "    .dataframe tbody tr th:only-of-type {\n",
       "        vertical-align: middle;\n",
       "    }\n",
       "\n",
       "    .dataframe tbody tr th {\n",
       "        vertical-align: top;\n",
       "    }\n",
       "\n",
       "    .dataframe thead th {\n",
       "        text-align: right;\n",
       "    }\n",
       "</style>\n",
       "<table border=\"1\" class=\"dataframe\">\n",
       "  <thead>\n",
       "    <tr style=\"text-align: right;\">\n",
       "      <th></th>\n",
       "      <th>Movie ID</th>\n",
       "      <th>Title</th>\n",
       "      <th>Year</th>\n",
       "      <th>Genres</th>\n",
       "      <th>IMDb ID</th>\n",
       "      <th>Predicted Rating</th>\n",
       "    </tr>\n",
       "  </thead>\n",
       "  <tbody>\n",
       "    <tr>\n",
       "      <th>0</th>\n",
       "      <td>135727</td>\n",
       "      <td>Aarya</td>\n",
       "      <td>2004</td>\n",
       "      <td>Comedy,Drama,Romance</td>\n",
       "      <td>431619</td>\n",
       "      <td>5</td>\n",
       "    </tr>\n",
       "    <tr>\n",
       "      <th>1</th>\n",
       "      <td>138504</td>\n",
       "      <td>Provocateur</td>\n",
       "      <td>1998</td>\n",
       "      <td>Action,Drama,Thriller</td>\n",
       "      <td>134912</td>\n",
       "      <td>5</td>\n",
       "    </tr>\n",
       "    <tr>\n",
       "      <th>2</th>\n",
       "      <td>138568</td>\n",
       "      <td>Top of the World</td>\n",
       "      <td>1998</td>\n",
       "      <td>Action,Drama,Thriller</td>\n",
       "      <td>120353</td>\n",
       "      <td>5</td>\n",
       "    </tr>\n",
       "    <tr>\n",
       "      <th>3</th>\n",
       "      <td>131767</td>\n",
       "      <td>Boxers and Ballerinas</td>\n",
       "      <td>2005</td>\n",
       "      <td>(no genres listed)</td>\n",
       "      <td>435609</td>\n",
       "      <td>5</td>\n",
       "    </tr>\n",
       "    <tr>\n",
       "      <th>4</th>\n",
       "      <td>138696</td>\n",
       "      <td>Hands in the Air</td>\n",
       "      <td>2010</td>\n",
       "      <td>Comedy,Drama,Romance</td>\n",
       "      <td>1634334</td>\n",
       "      <td>5</td>\n",
       "    </tr>\n",
       "    <tr>\n",
       "      <th>5</th>\n",
       "      <td>139185</td>\n",
       "      <td>A Girl Called Jules</td>\n",
       "      <td>1970</td>\n",
       "      <td>Drama</td>\n",
       "      <td>66277</td>\n",
       "      <td>5</td>\n",
       "    </tr>\n",
       "    <tr>\n",
       "      <th>6</th>\n",
       "      <td>139547</td>\n",
       "      <td>Placebo: Soulmates Never Die: Live in Paris 2003</td>\n",
       "      <td>2004</td>\n",
       "      <td>(no genres listed)</td>\n",
       "      <td>417053</td>\n",
       "      <td>5</td>\n",
       "    </tr>\n",
       "    <tr>\n",
       "      <th>7</th>\n",
       "      <td>139693</td>\n",
       "      <td>Saint Maybe</td>\n",
       "      <td>1998</td>\n",
       "      <td>(no genres listed)</td>\n",
       "      <td>168156</td>\n",
       "      <td>5</td>\n",
       "    </tr>\n",
       "    <tr>\n",
       "      <th>8</th>\n",
       "      <td>132124</td>\n",
       "      <td>Say Nothing</td>\n",
       "      <td>2001</td>\n",
       "      <td>Action,Drama,Mystery,Romance,Sci-Fi,Thriller</td>\n",
       "      <td>288808</td>\n",
       "      <td>5</td>\n",
       "    </tr>\n",
       "    <tr>\n",
       "      <th>9</th>\n",
       "      <td>140633</td>\n",
       "      <td>Another World</td>\n",
       "      <td>2014</td>\n",
       "      <td>Documentary</td>\n",
       "      <td>3326110</td>\n",
       "      <td>5</td>\n",
       "    </tr>\n",
       "  </tbody>\n",
       "</table>\n",
       "</div>"
      ],
      "text/plain": [
       "   Movie ID                                             Title  Year  \\\n",
       "0    135727                                             Aarya  2004   \n",
       "1    138504                                       Provocateur  1998   \n",
       "2    138568                                  Top of the World  1998   \n",
       "3    131767                             Boxers and Ballerinas  2005   \n",
       "4    138696                                  Hands in the Air  2010   \n",
       "5    139185                               A Girl Called Jules  1970   \n",
       "6    139547  Placebo: Soulmates Never Die: Live in Paris 2003  2004   \n",
       "7    139693                                       Saint Maybe  1998   \n",
       "8    132124                                       Say Nothing  2001   \n",
       "9    140633                                     Another World  2014   \n",
       "\n",
       "                                         Genres  IMDb ID  Predicted Rating  \n",
       "0                          Comedy,Drama,Romance   431619                 5  \n",
       "1                         Action,Drama,Thriller   134912                 5  \n",
       "2                         Action,Drama,Thriller   120353                 5  \n",
       "3                            (no genres listed)   435609                 5  \n",
       "4                          Comedy,Drama,Romance  1634334                 5  \n",
       "5                                         Drama    66277                 5  \n",
       "6                            (no genres listed)   417053                 5  \n",
       "7                            (no genres listed)   168156                 5  \n",
       "8  Action,Drama,Mystery,Romance,Sci-Fi,Thriller   288808                 5  \n",
       "9                                   Documentary  3326110                 5  "
      ]
     },
     "execution_count": 60,
     "metadata": {},
     "output_type": "execute_result"
    }
   ],
   "source": [
    "# Generating recommendations for a specific user\n",
    "user_id = 1 \n",
    "recommended_movies_coc = get_recommendations_user_CoClustering(user_id, co_clustering_model, df, df, top_n=10)\n",
    "recommended_movies_coc"
   ]
  },
  {
   "cell_type": "markdown",
   "id": "56cc444b-497b-443a-9825-589747a59f88",
   "metadata": {},
   "source": [
    "## 4) SlopeOne\n",
    "Slope One is a straightforward algorithm for collaborative filtering with interpretability. It's designed to be easy to implement and to work with sparse datasets. "
   ]
  },
  {
   "cell_type": "markdown",
   "id": "dd814ace-f4fd-4586-aaf6-4d850129dbdb",
   "metadata": {},
   "source": [
    "##### Creating the SlopeOne Model:\n",
    "\n"
   ]
  },
  {
   "cell_type": "code",
   "execution_count": 61,
   "id": "7ed3df98-5161-440c-9fc3-89a22495b4b8",
   "metadata": {},
   "outputs": [
    {
     "data": {
      "text/plain": [
       "<surprise.prediction_algorithms.slope_one.SlopeOne at 0x240b0305d00>"
      ]
     },
     "execution_count": 61,
     "metadata": {},
     "output_type": "execute_result"
    }
   ],
   "source": [
    "# Initializing and training the SlopeOne model\n",
    "slope_one_model = SlopeOne()\n",
    "slope_one_model.fit(trainset)"
   ]
  },
  {
   "cell_type": "code",
   "execution_count": 62,
   "id": "c1ff4d80-9b28-4f71-b86d-3d192c0110dc",
   "metadata": {},
   "outputs": [
    {
     "name": "stdout",
     "output_type": "stream",
     "text": [
      "RMSE: 0.8325\n"
     ]
    }
   ],
   "source": [
    "# Testing the model to predict on the test set and calculating RMSE\n",
    "predictionsSlopeOne = slope_one_model.test(testset)\n",
    "rmseSlopeOne = accuracy.rmse(predictionsSlopeOne)"
   ]
  },
  {
   "cell_type": "markdown",
   "id": "98573e44-063d-4ba5-bca7-d80b4b0c8985",
   "metadata": {},
   "source": [
    "##### Generating User-Based Recommendations with SlopeOne\n"
   ]
  },
  {
   "cell_type": "code",
   "execution_count": 63,
   "id": "78062562-8a8c-4915-9523-c46715d9acfb",
   "metadata": {},
   "outputs": [],
   "source": [
    "def get_recommendations_user_SlopeOne(user_id, model, all_movies_df, user_movie_ratings_df, top_n=10):\n",
    "    # Get a list of all movie IDs\n",
    "    all_movie_ids = set(all_movies_df['movieId'].unique())\n",
    "\n",
    "    # Get a list of movies that the user has already rated\n",
    "    rated_movies = set(user_movie_ratings_df[user_movie_ratings_df['userId'] == user_id]['movieId'].unique())\n",
    "\n",
    "    # Predict ratings for all movies that the user hasn't rated\n",
    "    predictions = [model.predict(user_id, movie_id) for movie_id in all_movie_ids if movie_id not in rated_movies]\n",
    "\n",
    "    # Sort the predictions by estimated rating in descending order and retrieve the top N\n",
    "    predictions.sort(key=lambda x: x.est, reverse=True)\n",
    "    top_recommendations = predictions[:top_n]\n",
    "\n",
    "    # Create a DataFrame for the top recommended movies\n",
    "    recommended_movies_info = []\n",
    "    for pred in top_recommendations:\n",
    "        movie_id = pred.iid\n",
    "        movie_details = all_movies_df[all_movies_df['movieId'] == movie_id]\n",
    "        title = movie_details['title'].values[0]\n",
    "        year = movie_details['year'].values[0] if 'year' in movie_details.columns else \"N/A\"\n",
    "        genres = movie_details['genres'].values[0] if 'genres' in movie_details.columns else \"N/A\"\n",
    "        imdbId = movie_details['imdbId'].values[0] if 'imdbId' in movie_details.columns else \"N/A\"\n",
    "        predicted_rating = pred.est\n",
    "        recommended_movies_info.append([movie_id, title, year, genres, imdbId, predicted_rating])\n",
    "\n",
    "    return pd.DataFrame(recommended_movies_info, columns=['Movie ID', 'Title', 'Year', 'Genres', 'IMDb ID', 'Predicted Rating'])"
   ]
  },
  {
   "cell_type": "code",
   "execution_count": 64,
   "id": "25e316f3-9178-40a4-9332-4789aa1b4a18",
   "metadata": {},
   "outputs": [
    {
     "data": {
      "text/html": [
       "<div>\n",
       "<style scoped>\n",
       "    .dataframe tbody tr th:only-of-type {\n",
       "        vertical-align: middle;\n",
       "    }\n",
       "\n",
       "    .dataframe tbody tr th {\n",
       "        vertical-align: top;\n",
       "    }\n",
       "\n",
       "    .dataframe thead th {\n",
       "        text-align: right;\n",
       "    }\n",
       "</style>\n",
       "<table border=\"1\" class=\"dataframe\">\n",
       "  <thead>\n",
       "    <tr style=\"text-align: right;\">\n",
       "      <th></th>\n",
       "      <th>Movie ID</th>\n",
       "      <th>Title</th>\n",
       "      <th>Year</th>\n",
       "      <th>Genres</th>\n",
       "      <th>IMDb ID</th>\n",
       "      <th>Predicted Rating</th>\n",
       "    </tr>\n",
       "  </thead>\n",
       "  <tbody>\n",
       "    <tr>\n",
       "      <th>0</th>\n",
       "      <td>131644</td>\n",
       "      <td>The Great American Girl Robbery</td>\n",
       "      <td>1979</td>\n",
       "      <td>Comedy,Crime</td>\n",
       "      <td>78960</td>\n",
       "      <td>5</td>\n",
       "    </tr>\n",
       "    <tr>\n",
       "      <th>1</th>\n",
       "      <td>132944</td>\n",
       "      <td>Night Monster</td>\n",
       "      <td>1942</td>\n",
       "      <td>Children,Drama,Horror</td>\n",
       "      <td>35124</td>\n",
       "      <td>5</td>\n",
       "    </tr>\n",
       "    <tr>\n",
       "      <th>2</th>\n",
       "      <td>137688</td>\n",
       "      <td>Escape Clause</td>\n",
       "      <td>1996</td>\n",
       "      <td>Thriller</td>\n",
       "      <td>116224</td>\n",
       "      <td>5</td>\n",
       "    </tr>\n",
       "    <tr>\n",
       "      <th>3</th>\n",
       "      <td>138422</td>\n",
       "      <td>The Devil's Violinist</td>\n",
       "      <td>2013</td>\n",
       "      <td>Drama</td>\n",
       "      <td>2401715</td>\n",
       "      <td>5</td>\n",
       "    </tr>\n",
       "    <tr>\n",
       "      <th>4</th>\n",
       "      <td>138504</td>\n",
       "      <td>Provocateur</td>\n",
       "      <td>1998</td>\n",
       "      <td>Action,Drama,Thriller</td>\n",
       "      <td>134912</td>\n",
       "      <td>5</td>\n",
       "    </tr>\n",
       "    <tr>\n",
       "      <th>5</th>\n",
       "      <td>131767</td>\n",
       "      <td>Boxers and Ballerinas</td>\n",
       "      <td>2005</td>\n",
       "      <td>(no genres listed)</td>\n",
       "      <td>435609</td>\n",
       "      <td>5</td>\n",
       "    </tr>\n",
       "    <tr>\n",
       "      <th>6</th>\n",
       "      <td>138692</td>\n",
       "      <td>Neshoba</td>\n",
       "      <td>2010</td>\n",
       "      <td>Documentary</td>\n",
       "      <td>1337155</td>\n",
       "      <td>5</td>\n",
       "    </tr>\n",
       "    <tr>\n",
       "      <th>7</th>\n",
       "      <td>139036</td>\n",
       "      <td>World Gone Wild</td>\n",
       "      <td>1988</td>\n",
       "      <td>Action,Sci-Fi</td>\n",
       "      <td>96465</td>\n",
       "      <td>5</td>\n",
       "    </tr>\n",
       "    <tr>\n",
       "      <th>8</th>\n",
       "      <td>139185</td>\n",
       "      <td>A Girl Called Jules</td>\n",
       "      <td>1970</td>\n",
       "      <td>Drama</td>\n",
       "      <td>66277</td>\n",
       "      <td>5</td>\n",
       "    </tr>\n",
       "    <tr>\n",
       "      <th>9</th>\n",
       "      <td>139223</td>\n",
       "      <td>Walkout</td>\n",
       "      <td>2006</td>\n",
       "      <td>Drama</td>\n",
       "      <td>452703</td>\n",
       "      <td>5</td>\n",
       "    </tr>\n",
       "  </tbody>\n",
       "</table>\n",
       "</div>"
      ],
      "text/plain": [
       "   Movie ID                            Title  Year                 Genres  \\\n",
       "0    131644  The Great American Girl Robbery  1979           Comedy,Crime   \n",
       "1    132944                    Night Monster  1942  Children,Drama,Horror   \n",
       "2    137688                    Escape Clause  1996               Thriller   \n",
       "3    138422            The Devil's Violinist  2013                  Drama   \n",
       "4    138504                      Provocateur  1998  Action,Drama,Thriller   \n",
       "5    131767            Boxers and Ballerinas  2005     (no genres listed)   \n",
       "6    138692                          Neshoba  2010            Documentary   \n",
       "7    139036                  World Gone Wild  1988          Action,Sci-Fi   \n",
       "8    139185              A Girl Called Jules  1970                  Drama   \n",
       "9    139223                          Walkout  2006                  Drama   \n",
       "\n",
       "   IMDb ID  Predicted Rating  \n",
       "0    78960                 5  \n",
       "1    35124                 5  \n",
       "2   116224                 5  \n",
       "3  2401715                 5  \n",
       "4   134912                 5  \n",
       "5   435609                 5  \n",
       "6  1337155                 5  \n",
       "7    96465                 5  \n",
       "8    66277                 5  \n",
       "9   452703                 5  "
      ]
     },
     "execution_count": 64,
     "metadata": {},
     "output_type": "execute_result"
    }
   ],
   "source": [
    "# Example usage: Get top 10 recommendations for a user with ID 1\n",
    "user_id = 1  # Replace with the user ID for whom you want recommendations\n",
    "recommended_movies_slope_one = get_recommendations_user_SlopeOne(user_id, slope_one_model, df, df, top_n=10)\n",
    "recommended_movies_slope_one"
   ]
  },
  {
   "cell_type": "markdown",
   "id": "2254fbbe-4191-4bb1-bc76-8360ec21a164",
   "metadata": {},
   "source": [
    "## 5) Neural Networks\n",
    "\n",
    "#### Model Overview:\n",
    "Neural Networks provide a more flexible approach to modeling complex relationships within the data. In this approach, user and movie data are transformed into dense vectors, which are then combined to predict ratings."
   ]
  },
  {
   "cell_type": "code",
   "execution_count": 65,
   "id": "e44d0d99-dc1a-45d6-8122-9041f03896d0",
   "metadata": {},
   "outputs": [],
   "source": [
    "import tensorflow as tf\n",
    "from tensorflow.keras.models import Model\n",
    "from tensorflow.keras.layers import Input, Embedding, Flatten, Dot, Dense, Concatenate\n",
    "from sklearn.model_selection import train_test_split\n",
    "from sklearn.preprocessing import LabelEncoder"
   ]
  },
  {
   "cell_type": "markdown",
   "id": "632addb0-b6df-47cc-bcef-7e8c55ac6d9a",
   "metadata": {},
   "source": [
    "##### Preprocessing and Encoding User and Movie IDs:\n",
    "\n"
   ]
  },
  {
   "cell_type": "code",
   "execution_count": 66,
   "id": "6df105b1-d21a-4ad1-b0e9-9134f6e17387",
   "metadata": {},
   "outputs": [
    {
     "name": "stderr",
     "output_type": "stream",
     "text": [
      "<ipython-input-66-da2851efe4b3>:6: SettingWithCopyWarning: \n",
      "A value is trying to be set on a copy of a slice from a DataFrame.\n",
      "Try using .loc[row_indexer,col_indexer] = value instead\n",
      "\n",
      "See the caveats in the documentation: https://pandas.pydata.org/pandas-docs/stable/user_guide/indexing.html#returning-a-view-versus-a-copy\n",
      "  df['userId'] = user_encoder.fit_transform(df['userId'])\n",
      "<ipython-input-66-da2851efe4b3>:7: SettingWithCopyWarning: \n",
      "A value is trying to be set on a copy of a slice from a DataFrame.\n",
      "Try using .loc[row_indexer,col_indexer] = value instead\n",
      "\n",
      "See the caveats in the documentation: https://pandas.pydata.org/pandas-docs/stable/user_guide/indexing.html#returning-a-view-versus-a-copy\n",
      "  df['movieId'] = movie_encoder.fit_transform(df['movieId'])\n"
     ]
    }
   ],
   "source": [
    "# LabelEncoder is used to transform non-sequential IDs into sequential integer IDs for embedding layers.\n",
    "user_encoder = LabelEncoder()\n",
    "movie_encoder = LabelEncoder()\n",
    "\n",
    "# Transforming userId and movieId to sequential integers\n",
    "df['userId'] = user_encoder.fit_transform(df['userId'])\n",
    "df['movieId'] = movie_encoder.fit_transform(df['movieId'])"
   ]
  },
  {
   "cell_type": "code",
   "execution_count": 67,
   "id": "aeb3f3b8-8901-4ab4-b0fe-a363ed3c9086",
   "metadata": {},
   "outputs": [],
   "source": [
    "# The data is split into training and test sets to evaluate the model's performance.\n",
    "X = df[['userId', 'movieId']]\n",
    "y = df['rating']\n",
    "X_train, X_test, y_train, y_test = train_test_split(X, y, test_size=0.2, random_state=42)"
   ]
  },
  {
   "cell_type": "markdown",
   "id": "035c0656-731c-4dfe-a84e-0f083b09bcc8",
   "metadata": {},
   "source": [
    "##### Defining the Neural Network Architecture:"
   ]
  },
  {
   "cell_type": "code",
   "execution_count": 68,
   "id": "58d2b122-408a-43f4-bcdb-05f32c719c70",
   "metadata": {},
   "outputs": [
    {
     "name": "stdout",
     "output_type": "stream",
     "text": [
      "Model: \"model\"\n",
      "__________________________________________________________________________________________________\n",
      "Layer (type)                    Output Shape         Param #     Connected to                     \n",
      "==================================================================================================\n",
      "user_input (InputLayer)         [(None, 1)]          0                                            \n",
      "__________________________________________________________________________________________________\n",
      "movie_input (InputLayer)        [(None, 1)]          0                                            \n",
      "__________________________________________________________________________________________________\n",
      "embedding (Embedding)           (None, 1, 50)        2250000     user_input[0][0]                 \n",
      "__________________________________________________________________________________________________\n",
      "embedding_1 (Embedding)         (None, 1, 50)        2635900     movie_input[0][0]                \n",
      "__________________________________________________________________________________________________\n",
      "flatten (Flatten)               (None, 50)           0           embedding[0][0]                  \n",
      "__________________________________________________________________________________________________\n",
      "flatten_1 (Flatten)             (None, 50)           0           embedding_1[0][0]                \n",
      "__________________________________________________________________________________________________\n",
      "concatenate (Concatenate)       (None, 100)          0           flatten[0][0]                    \n",
      "                                                                 flatten_1[0][0]                  \n",
      "__________________________________________________________________________________________________\n",
      "dense (Dense)                   (None, 512)          51712       concatenate[0][0]                \n",
      "__________________________________________________________________________________________________\n",
      "batch_normalization (BatchNorma (None, 512)          2048        dense[0][0]                      \n",
      "__________________________________________________________________________________________________\n",
      "dropout (Dropout)               (None, 512)          0           batch_normalization[0][0]        \n",
      "__________________________________________________________________________________________________\n",
      "dense_1 (Dense)                 (None, 256)          131328      dropout[0][0]                    \n",
      "__________________________________________________________________________________________________\n",
      "batch_normalization_1 (BatchNor (None, 256)          1024        dense_1[0][0]                    \n",
      "__________________________________________________________________________________________________\n",
      "dropout_1 (Dropout)             (None, 256)          0           batch_normalization_1[0][0]      \n",
      "__________________________________________________________________________________________________\n",
      "dense_2 (Dense)                 (None, 1)            257         dropout_1[0][0]                  \n",
      "==================================================================================================\n",
      "Total params: 5,072,269\n",
      "Trainable params: 5,070,733\n",
      "Non-trainable params: 1,536\n",
      "__________________________________________________________________________________________________\n"
     ]
    }
   ],
   "source": [
    "from tensorflow.keras.layers import BatchNormalization, Dropout\n",
    "\n",
    "# Model architecture\n",
    "user_input = Input(shape=(1,), name='user_input')\n",
    "movie_input = Input(shape=(1,), name='movie_input')\n",
    "\n",
    "user_embedding = Embedding(input_dim=len(user_encoder.classes_), output_dim=50)(user_input)\n",
    "movie_embedding = Embedding(input_dim=len(movie_encoder.classes_), output_dim=50)(movie_input)\n",
    "\n",
    "user_vec = Flatten()(user_embedding)\n",
    "movie_vec = Flatten()(movie_embedding)\n",
    "\n",
    "concat = Concatenate()([user_vec, movie_vec])\n",
    "\n",
    "# Adding more layers and units, and using Batch Normalization and Dropout for regularization\n",
    "dense1 = Dense(512, activation='relu')(concat)\n",
    "batch_norm1 = BatchNormalization()(dense1)\n",
    "dropout1 = Dropout(0.5)(batch_norm1)\n",
    "\n",
    "dense2 = Dense(256, activation='relu')(dropout1)\n",
    "batch_norm2 = BatchNormalization()(dense2)\n",
    "dropout2 = Dropout(0.5)(batch_norm2)\n",
    "\n",
    "output = Dense(1)(dropout2)\n",
    "\n",
    "modelNN = Model(inputs=[user_input, movie_input], outputs=output)\n",
    "\n",
    "modelNN.summary()"
   ]
  },
  {
   "cell_type": "code",
   "execution_count": 69,
   "id": "927b3f4b-7b14-4e54-a9d3-5a7f976c3f29",
   "metadata": {},
   "outputs": [],
   "source": [
    "# Compile the model with the RMSprop optimizer\n",
    "modelNN.compile(optimizer=tf.keras.optimizers.RMSprop(learning_rate=0.001), loss='mean_squared_error')"
   ]
  },
  {
   "cell_type": "code",
   "execution_count": 70,
   "id": "0b244145-64a9-4bb6-9ab5-1b774af068bc",
   "metadata": {},
   "outputs": [
    {
     "name": "stdout",
     "output_type": "stream",
     "text": [
      "Epoch 1/20\n",
      "1319/1319 [==============================] - 144s 109ms/step - loss: 1.6213 - val_loss: 0.7352\n",
      "Epoch 2/20\n",
      "1319/1319 [==============================] - 144s 109ms/step - loss: 0.7147 - val_loss: 0.6700\n",
      "Epoch 3/20\n",
      "1319/1319 [==============================] - 144s 109ms/step - loss: 0.6824 - val_loss: 0.6563\n",
      "Epoch 4/20\n",
      "1319/1319 [==============================] - 145s 110ms/step - loss: 0.6635 - val_loss: 0.6448\n",
      "Epoch 5/20\n",
      "1319/1319 [==============================] - 144s 109ms/step - loss: 0.6469 - val_loss: 0.6470\n",
      "Epoch 6/20\n",
      "1319/1319 [==============================] - 148s 112ms/step - loss: 0.6267 - val_loss: 0.6263\n",
      "Epoch 7/20\n",
      "1319/1319 [==============================] - 144s 109ms/step - loss: 0.6088 - val_loss: 0.6147\n",
      "Epoch 8/20\n",
      "1319/1319 [==============================] - 143s 108ms/step - loss: 0.5948 - val_loss: 0.6113\n",
      "Epoch 9/20\n",
      "1319/1319 [==============================] - 136s 103ms/step - loss: 0.5818 - val_loss: 0.6076\n",
      "Epoch 10/20\n",
      "1319/1319 [==============================] - 144s 109ms/step - loss: 0.5703 - val_loss: 0.6074\n",
      "Epoch 11/20\n",
      "1319/1319 [==============================] - 142s 108ms/step - loss: 0.5598 - val_loss: 0.6080\n",
      "Epoch 12/20\n",
      "1319/1319 [==============================] - 142s 108ms/step - loss: 0.5499 - val_loss: 0.5958\n",
      "Epoch 13/20\n",
      "1319/1319 [==============================] - 142s 107ms/step - loss: 0.5412 - val_loss: 0.5950\n",
      "Epoch 14/20\n",
      "1319/1319 [==============================] - 145s 110ms/step - loss: 0.5334 - val_loss: 0.5992\n",
      "Epoch 15/20\n",
      "1319/1319 [==============================] - 143s 109ms/step - loss: 0.5260 - val_loss: 0.5918\n",
      "Epoch 16/20\n",
      "1319/1319 [==============================] - 142s 108ms/step - loss: 0.5198 - val_loss: 0.5912\n",
      "Epoch 17/20\n",
      "1319/1319 [==============================] - 140s 106ms/step - loss: 0.5142 - val_loss: 0.5889\n",
      "Epoch 18/20\n",
      "1319/1319 [==============================] - 146s 111ms/step - loss: 0.5088 - val_loss: 0.5896\n",
      "Epoch 19/20\n",
      "1319/1319 [==============================] - 137s 104ms/step - loss: 0.5043 - val_loss: 0.5917\n",
      "Epoch 20/20\n",
      "1319/1319 [==============================] - 146s 111ms/step - loss: 0.5000 - val_loss: 0.5871\n"
     ]
    },
    {
     "data": {
      "text/plain": [
       "<tensorflow.python.keras.callbacks.History at 0x24c04919370>"
      ]
     },
     "execution_count": 70,
     "metadata": {},
     "output_type": "execute_result"
    }
   ],
   "source": [
    "# Train the model\n",
    "modelNN.fit([X_train['userId'], X_train['movieId']], y_train, epochs=20, batch_size=5000, validation_split=0.2, verbose=1)"
   ]
  },
  {
   "cell_type": "code",
   "execution_count": 71,
   "id": "bbfe6f6e-a7f9-48ea-8a11-d7a173fca915",
   "metadata": {
    "tags": []
   },
   "outputs": [
    {
     "name": "stdout",
     "output_type": "stream",
     "text": [
      "64376/64376 [==============================] - 71s 1ms/step - loss: 0.5850\n",
      "RMSE: 0.7648584849542631\n"
     ]
    }
   ],
   "source": [
    "# Evaluate the model to get MSE and then compute RMSE\n",
    "mse_loss = modelNN.evaluate([X_test['userId'], X_test['movieId']], y_test)\n",
    "rmse_lossNN = np.sqrt(mse_loss)\n",
    "print('RMSE:', rmse_lossNN)"
   ]
  },
  {
   "cell_type": "markdown",
   "id": "658beebf-dcda-4e75-a4f7-b9b604633c12",
   "metadata": {},
   "source": [
    "##### Generating User-Based Recommendations:"
   ]
  },
  {
   "cell_type": "code",
   "execution_count": 72,
   "id": "7e9bc5d2-43cf-4d26-9852-534736309d06",
   "metadata": {
    "tags": []
   },
   "outputs": [],
   "source": [
    "def recommend_movies_for_user_NN_df(model, user_id, all_movie_ids, user_rated_movies, movies_df, top_n=10):\n",
    "    # Movies not rated by the user\n",
    "    movies_to_predict = np.setdiff1d(all_movie_ids, user_rated_movies)\n",
    "\n",
    "    # Prepare the user data for prediction\n",
    "    user_data = np.array([user_id] * len(movies_to_predict))\n",
    "\n",
    "    # Predict ratings\n",
    "    predicted_ratings = model.predict([user_data, movies_to_predict]).flatten()\n",
    "\n",
    "    # Get the top N movie IDs with the highest predicted rating\n",
    "    top_movie_indices = predicted_ratings.argsort()[-top_n:][::-1]\n",
    "    top_movie_ids = movies_to_predict[top_movie_indices]\n",
    "\n",
    "    # Get unique movie details for the top recommended movies\n",
    "    recommended_movies = movies_df.drop_duplicates(subset='movieId')\n",
    "    recommended_movies = recommended_movies[recommended_movies['movieId'].isin(top_movie_ids)]\n",
    "\n",
    "    # Sort the recommendations to match the order of top_movie_ids\n",
    "    recommended_movies = recommended_movies.set_index('movieId')\n",
    "    recommended_movies = recommended_movies.loc[top_movie_ids].reset_index()\n",
    "\n",
    "    # Adding predicted ratings\n",
    "    recommended_movies['Predicted Rating'] = predicted_ratings[top_movie_indices]\n",
    "\n",
    "    # Correct the column names in the return statement to match the DataFrame\n",
    "    return recommended_movies[['movieId', 'title', 'year', 'genres', 'imdbId', 'Predicted Rating']]"
   ]
  },
  {
   "cell_type": "code",
   "execution_count": 73,
   "id": "e1a107ca-1cbb-4923-9b7b-c64bf21975d6",
   "metadata": {
    "tags": []
   },
   "outputs": [
    {
     "data": {
      "text/html": [
       "<div>\n",
       "<style scoped>\n",
       "    .dataframe tbody tr th:only-of-type {\n",
       "        vertical-align: middle;\n",
       "    }\n",
       "\n",
       "    .dataframe tbody tr th {\n",
       "        vertical-align: top;\n",
       "    }\n",
       "\n",
       "    .dataframe thead th {\n",
       "        text-align: right;\n",
       "    }\n",
       "</style>\n",
       "<table border=\"1\" class=\"dataframe\">\n",
       "  <thead>\n",
       "    <tr style=\"text-align: right;\">\n",
       "      <th></th>\n",
       "      <th>movieId</th>\n",
       "      <th>title</th>\n",
       "      <th>year</th>\n",
       "      <th>genres</th>\n",
       "      <th>imdbId</th>\n",
       "      <th>Predicted Rating</th>\n",
       "    </tr>\n",
       "  </thead>\n",
       "  <tbody>\n",
       "    <tr>\n",
       "      <th>0</th>\n",
       "      <td>39744</td>\n",
       "      <td>Planet Earth II</td>\n",
       "      <td>2016</td>\n",
       "      <td>Documentary</td>\n",
       "      <td>5491994</td>\n",
       "      <td>4.764487</td>\n",
       "    </tr>\n",
       "    <tr>\n",
       "      <th>1</th>\n",
       "      <td>30001</td>\n",
       "      <td>The Blue Planet</td>\n",
       "      <td>2001</td>\n",
       "      <td>Documentary</td>\n",
       "      <td>296310</td>\n",
       "      <td>4.703921</td>\n",
       "    </tr>\n",
       "    <tr>\n",
       "      <th>2</th>\n",
       "      <td>734</td>\n",
       "      <td>Dr. Strangelove or: How I Learned to Stop Worr...</td>\n",
       "      <td>1964</td>\n",
       "      <td>Comedy,War</td>\n",
       "      <td>57012</td>\n",
       "      <td>4.669900</td>\n",
       "    </tr>\n",
       "    <tr>\n",
       "      <th>3</th>\n",
       "      <td>49794</td>\n",
       "      <td>Twin Peaks</td>\n",
       "      <td>1989</td>\n",
       "      <td>Drama,Mystery</td>\n",
       "      <td>278784</td>\n",
       "      <td>4.669847</td>\n",
       "    </tr>\n",
       "    <tr>\n",
       "      <th>4</th>\n",
       "      <td>37116</td>\n",
       "      <td>Over the Garden Wall</td>\n",
       "      <td>2013</td>\n",
       "      <td>Adventure,Animation,Drama</td>\n",
       "      <td>3718778</td>\n",
       "      <td>4.637286</td>\n",
       "    </tr>\n",
       "    <tr>\n",
       "      <th>5</th>\n",
       "      <td>35771</td>\n",
       "      <td>Planet Earth</td>\n",
       "      <td>2006</td>\n",
       "      <td>Documentary</td>\n",
       "      <td>795176</td>\n",
       "      <td>4.623449</td>\n",
       "    </tr>\n",
       "    <tr>\n",
       "      <th>6</th>\n",
       "      <td>1169</td>\n",
       "      <td>Brazil</td>\n",
       "      <td>1985</td>\n",
       "      <td>Fantasy,Sci-Fi</td>\n",
       "      <td>88846</td>\n",
       "      <td>4.590383</td>\n",
       "    </tr>\n",
       "    <tr>\n",
       "      <th>7</th>\n",
       "      <td>2750</td>\n",
       "      <td>Black Cat, White Cat (Crna macka, beli macor)</td>\n",
       "      <td>1998</td>\n",
       "      <td>Comedy,Romance</td>\n",
       "      <td>118843</td>\n",
       "      <td>4.570890</td>\n",
       "    </tr>\n",
       "    <tr>\n",
       "      <th>8</th>\n",
       "      <td>17642</td>\n",
       "      <td>Civil War, The</td>\n",
       "      <td>1990</td>\n",
       "      <td>Documentary,War</td>\n",
       "      <td>98769</td>\n",
       "      <td>4.570656</td>\n",
       "    </tr>\n",
       "    <tr>\n",
       "      <th>9</th>\n",
       "      <td>21086</td>\n",
       "      <td>Powers of Ten</td>\n",
       "      <td>1977</td>\n",
       "      <td>Documentary</td>\n",
       "      <td>78106</td>\n",
       "      <td>4.562037</td>\n",
       "    </tr>\n",
       "  </tbody>\n",
       "</table>\n",
       "</div>"
      ],
      "text/plain": [
       "   movieId                                              title  year  \\\n",
       "0    39744                                    Planet Earth II  2016   \n",
       "1    30001                                    The Blue Planet  2001   \n",
       "2      734  Dr. Strangelove or: How I Learned to Stop Worr...  1964   \n",
       "3    49794                                         Twin Peaks  1989   \n",
       "4    37116                               Over the Garden Wall  2013   \n",
       "5    35771                                       Planet Earth  2006   \n",
       "6     1169                                             Brazil  1985   \n",
       "7     2750      Black Cat, White Cat (Crna macka, beli macor)  1998   \n",
       "8    17642                                     Civil War, The  1990   \n",
       "9    21086                                      Powers of Ten  1977   \n",
       "\n",
       "                      genres   imdbId  Predicted Rating  \n",
       "0                Documentary  5491994          4.764487  \n",
       "1                Documentary   296310          4.703921  \n",
       "2                 Comedy,War    57012          4.669900  \n",
       "3              Drama,Mystery   278784          4.669847  \n",
       "4  Adventure,Animation,Drama  3718778          4.637286  \n",
       "5                Documentary   795176          4.623449  \n",
       "6             Fantasy,Sci-Fi    88846          4.590383  \n",
       "7             Comedy,Romance   118843          4.570890  \n",
       "8            Documentary,War    98769          4.570656  \n",
       "9                Documentary    78106          4.562037  "
      ]
     },
     "execution_count": 73,
     "metadata": {},
     "output_type": "execute_result"
    }
   ],
   "source": [
    "# Generating recommendations for a specific user\n",
    "user_id = 1\n",
    "all_movie_ids = df['movieId'].unique()\n",
    "user_rated_movies = df[df['userId'] == user_id]['movieId'].unique()\n",
    "recommended_movies_NN_df = recommend_movies_for_user_NN_df(modelNN, user_id, all_movie_ids, user_rated_movies, df, top_n=10)\n",
    "recommended_movies_NN_df"
   ]
  },
  {
   "cell_type": "markdown",
   "id": "46e97883-aa4b-4f1c-a388-57ed15b0cbab",
   "metadata": {},
   "source": [
    "The Neural Network model allows for complex interactions between user and item features, potentially leading to more accurate predictions and personalized recommendations. The use of dropout and batch normalization helps prevent overfitting during training, ensuring the model generalizes well to unseen data."
   ]
  },
  {
   "cell_type": "markdown",
   "id": "b2a81ab5-6ec1-4071-8017-bf32288479b6",
   "metadata": {},
   "source": [
    "## Model Performance Comparison Using RMSE\n"
   ]
  },
  {
   "cell_type": "markdown",
   "id": "f049d695-4ebd-4b62-be40-2241121e20fc",
   "metadata": {},
   "source": [
    "The RMSE is a standard measure to evaluate the accuracy of predictions in recommendation systems, where a lower RMSE value indicates better predictive performance. This visualization aids in understanding the comparative performance of each model, with the bar heights directly representing the RMSE values."
   ]
  },
  {
   "cell_type": "code",
   "execution_count": 74,
   "id": "a916e349-094c-43f5-828a-a96c85efaec5",
   "metadata": {
    "tags": []
   },
   "outputs": [
    {
     "data": {
      "image/png": "[encoded data removed]",
      "text/plain": [
       "<Figure size 864x504 with 1 Axes>"
      ]
     },
     "metadata": {},
     "output_type": "display_data"
    }
   ],
   "source": [
    "import seaborn as sns\n",
    "\n",
    "# RMSE values for each model\n",
    "rmse_values = {\n",
    "    \"SVD\": rmseSVD,\n",
    "    \"NMF\": rmse_nmf,\n",
    "    \"CoClustering\": rmse_coc,\n",
    "    \"SlopeOne\": rmseSlopeOne,\n",
    "    \"Neural Network\": rmse_lossNN\n",
    "}\n",
    "\n",
    "# Enhancing the plot aesthetics using seaborn\n",
    "sns.set(style=\"whitegrid\")\n",
    "plt.figure(figsize=(12, 7))\n",
    "bars = plt.bar(rmse_values.keys(), rmse_values.values(), color=sns.color_palette(\"muted\"))\n",
    "\n",
    "# Adding the RMSE scores on top of each bar without rounding\n",
    "for bar in bars:\n",
    "    yval = bar.get_height()\n",
    "    plt.text(bar.get_x() + bar.get_width()/2.0, yval, f\"{yval:.4f}\", ha='center', va='bottom', fontsize=11, fontweight='bold')\n",
    "\n",
    "# Customizing the plot\n",
    "plt.xlabel('Model', fontsize=14, fontweight='bold')\n",
    "plt.ylabel('RMSE', fontsize=14, fontweight='bold')\n",
    "plt.title('Comparison of RMSE Values Across Different Models', fontsize=16, fontweight='bold')\n",
    "plt.xticks(fontsize=12, fontweight='bold')\n",
    "plt.yticks(fontsize=12)\n",
    "plt.ylim(0, max(rmse_values.values()) + 0.05)  # Adjusting y-axis limit for clarity\n",
    "plt.show()"
   ]
  },
  {
   "cell_type": "markdown",
   "id": "f13c3c94-c2d3-4ad2-9db8-f21ca7913e03",
   "metadata": {},
   "source": [
    "# Model Performance Comparison\n",
    "\n",
    "The bar chart illustrates the comparison of RMSE (Root Mean Squared Error) values across five different models used in a movie recommendation system:\n",
    "\n",
    "- **SVD (Singular Value Decomposition):** With an RMSE of `0.7637`, the SVD model shows strong predictive accuracy and is effective in uncovering latent features that influence user preferences.\n",
    "\n",
    "- **NMF (Non-negative Matrix Factorization):** Exhibiting a higher RMSE of `1.1196`, the NMF model has less predictive accuracy. Although it provides interpretable results, it may benefit from parameter tuning or further data processing to improve its performance.\n",
    "\n",
    "- **CoClustering:** This model achieves a moderate RMSE of `0.8721`, suggesting decent performance by grouping similar users and items. However, its predictive accuracy falls short compared to SVD.\n",
    "\n",
    "- **SlopeOne:** With an RMSE of `0.8325`, the SlopeOne recommender is simple yet effective, though it does not achieve the best performance among the models tested.\n",
    "\n",
    "- **Neural Network:** Outshining the other models with the lowest RMSE of `0.7649`, the neural network model's complex architecture successfully captures the complex nonlinear relationships in the data.\n",
    "\n",
    "In summary, both SVD and Neural Network models demonstrate comparable high-level accuracy, as indicated by their close RMSE values. These models excel in capturing the nuances of user preferences and intricate movie features better than other evaluated models. While the sophistication of neural networks offers a slight edge, the simplicity and efficiency of SVD make it equally valuable, especially when considering computational resources and the ease of model interpretation."
   ]
  },
  {
   "cell_type": "markdown",
   "id": "d7ddae6a-4267-4049-8e9b-abd880a41b5d",
   "metadata": {},
   "source": [
    "#### Saving Neural Networks model for the application"
   ]
  },
  {
   "cell_type": "code",
   "execution_count": 75,
   "id": "64f2fdf6-f612-4718-b567-879515f39c98",
   "metadata": {},
   "outputs": [],
   "source": [
    "# Save the model\n",
    "modelNN.save('movie_recommender_model.h5')"
   ]
  }
 ],
 "metadata": {
  "kernelspec": {
   "display_name": "Python 3 (ipykernel)",
   "language": "python",
   "name": "python3"
  },
  "language_info": {
   "codemirror_mode": {
    "name": "ipython",
    "version": 3
   },
   "file_extension": ".py",
   "mimetype": "text/x-python",
   "name": "python",
   "nbconvert_exporter": "python",
   "pygments_lexer": "ipython3",
   "version": "3.9.15"
  }
 },
 "nbformat": 4,
 "nbformat_minor": 5
}
